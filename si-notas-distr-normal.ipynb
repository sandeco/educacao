{
 "cells": [
  {
   "cell_type": "code",
   "execution_count": 40,
   "metadata": {
    "collapsed": false
   },
   "outputs": [
    {
     "data": {
      "text/html": [
       "<div>\n",
       "<table border=\"1\" class=\"dataframe\">\n",
       "  <thead>\n",
       "    <tr style=\"text-align: right;\">\n",
       "      <th></th>\n",
       "      <th>NOTAS</th>\n",
       "    </tr>\n",
       "  </thead>\n",
       "  <tbody>\n",
       "    <tr>\n",
       "      <th>count</th>\n",
       "      <td>1222.000000</td>\n",
       "    </tr>\n",
       "    <tr>\n",
       "      <th>mean</th>\n",
       "      <td>6.718494</td>\n",
       "    </tr>\n",
       "    <tr>\n",
       "      <th>std</th>\n",
       "      <td>2.957801</td>\n",
       "    </tr>\n",
       "    <tr>\n",
       "      <th>min</th>\n",
       "      <td>0.000000</td>\n",
       "    </tr>\n",
       "    <tr>\n",
       "      <th>25%</th>\n",
       "      <td>6.200000</td>\n",
       "    </tr>\n",
       "    <tr>\n",
       "      <th>50%</th>\n",
       "      <td>7.600000</td>\n",
       "    </tr>\n",
       "    <tr>\n",
       "      <th>75%</th>\n",
       "      <td>8.700000</td>\n",
       "    </tr>\n",
       "    <tr>\n",
       "      <th>max</th>\n",
       "      <td>10.000000</td>\n",
       "    </tr>\n",
       "  </tbody>\n",
       "</table>\n",
       "</div>"
      ],
      "text/plain": [
       "             NOTAS\n",
       "count  1222.000000\n",
       "mean      6.718494\n",
       "std       2.957801\n",
       "min       0.000000\n",
       "25%       6.200000\n",
       "50%       7.600000\n",
       "75%       8.700000\n",
       "max      10.000000"
      ]
     },
     "execution_count": 40,
     "metadata": {},
     "output_type": "execute_result"
    }
   ],
   "source": [
    "import numpy as np\n",
    "import pandas as pd\n",
    "from scipy import stats, integrate\n",
    "from scipy.stats import norm\n",
    "from operator import itemgetter\n",
    "import matplotlib.pyplot as plt\n",
    "\n",
    "%matplotlib inline\n",
    "\n",
    "si = pd.read_csv('si_clean.csv')\n",
    "\n",
    "## dada as notas de um determinado aluno\n",
    "## vamos criar uma distribuição normal baseado em suas notas\n",
    "\n",
    "notas = [1.2, 3.5, 4.5, 5.0, 5.2, 4.0, 5.0, 5.2, 4.5, 8.0, 7.0, 7.0, 6.0, 4.3, 7.1, 5.4]\n",
    "\n",
    "n = pd.DataFrame(si['NOTAS'])\n",
    "\n",
    "n.describe()"
   ]
  },
  {
   "cell_type": "code",
   "execution_count": 41,
   "metadata": {
    "collapsed": false
   },
   "outputs": [
    {
     "data": {
      "image/png": "[encoded data removed]",
      "text/plain": [
       "<matplotlib.figure.Figure at 0xaadc710>"
      ]
     },
     "metadata": {},
     "output_type": "display_data"
    }
   ],
   "source": [
    "#Definindo o range das notas. Neste caso as notas só podem ir de zero a 10\n",
    "x = np.linspace(0.0, 10.0)\n",
    "\n",
    "## loc=média and scale=desvio padrão\n",
    "y = norm.pdf(x, loc=n.mean(), scale=n.std()) \n",
    "\n",
    "plt.plot(x,y)\n",
    "plt.show()"
   ]
  },
  {
   "cell_type": "code",
   "execution_count": 53,
   "metadata": {
    "collapsed": false
   },
   "outputs": [
    {
     "name": "stdout",
     "output_type": "stream",
     "text": [
      "A probabilidade do aluno tirar nota 0.0 é: 1.02228948527%\n",
      "A probabilidade do aluno tirar nota 0.5 é: 1.47954223926%\n",
      "A probabilidade do aluno tirar nota 1.0 é: 2.08099205286%\n",
      "A probabilidade do aluno tirar nota 1.5 é: 2.84448111044%\n",
      "A probabilidade do aluno tirar nota 2.0 é: 3.77855080046%\n",
      "A probabilidade do aluno tirar nota 2.5 é: 4.87794675857%\n",
      "A probabilidade do aluno tirar nota 3.0 é: 6.11981685152%\n",
      "A probabilidade do aluno tirar nota 3.5 é: 7.46155549718%\n",
      "A probabilidade do aluno tirar nota 4.0 é: 8.8411732468%\n",
      "A probabilidade do aluno tirar nota 4.5 é: 10.1807554903%\n",
      "A probabilidade do aluno tirar nota 5.0 é: 11.3930418457%\n",
      "A probabilidade do aluno tirar nota 5.5 é: 12.3905035605%\n",
      "A probabilidade do aluno tirar nota 6.0 é: 13.0956723357%\n",
      "A probabilidade do aluno tirar nota 6.5 é: 13.4510510963%\n",
      "A probabilidade do aluno tirar nota 7.0 é: 13.4268526767%\n",
      "A probabilidade do aluno tirar nota 7.5 é: 13.0251221262%\n",
      "A probabilidade do aluno tirar nota 8.0 é: 12.2794513638%\n",
      "A probabilidade do aluno tirar nota 8.5 é: 11.2503413984%\n",
      "A probabilidade do aluno tirar nota 9.0 é: 10.0171002194%\n",
      "A probabilidade do aluno tirar nota 9.5 é: 8.66778070431%\n",
      "A probabilidade do aluno tirar nota 10.0 é: 7.28892346935%\n"
     ]
    }
   ],
   "source": [
    "## pdf pode-se passar várias notas como um array ex.: [10,9,8] \n",
    "## A função retorna um array com as probabilidades de cada nota\n",
    "#p = stats.norm(n.mean(), n.std()).pdf(x)\n",
    "#p\n",
    "\n",
    "probabilidades = [] # armazenar a nota e sua probabilidade\n",
    "aux = 0.0\n",
    "for i in range(21):\n",
    "    p = stats.norm(n.mean(), n.std()).pdf(aux)\n",
    "    p = p[0]\n",
    "    print(\"A probabilidade do aluno tirar nota \" + str(aux) + \" é: \" + str(p*100) + \"%\")\n",
    "    probabilidades += [(aux, p*100)]\n",
    "    aux += 0.5\n"
   ]
  },
  {
   "cell_type": "code",
   "execution_count": 54,
   "metadata": {
    "collapsed": false
   },
   "outputs": [
    {
     "name": "stdout",
     "output_type": "stream",
     "text": [
      "As notas mais provaveis de serem tiradas pelos alunos do curso de SI:\n",
      "Nota: 6.5, probabilidade: 13.4510510963%\n",
      "Nota: 7.0, probabilidade: 13.4268526767%\n",
      "Nota: 6.0, probabilidade: 13.0956723357%\n",
      "Nota: 7.5, probabilidade: 13.0251221262%\n",
      "Nota: 5.5, probabilidade: 12.3905035605%\n",
      "Nota: 8.0, probabilidade: 12.2794513638%\n",
      "Nota: 5.0, probabilidade: 11.3930418457%\n",
      "Nota: 8.5, probabilidade: 11.2503413984%\n",
      "Nota: 4.5, probabilidade: 10.1807554903%\n",
      "Nota: 9.0, probabilidade: 10.0171002194%\n",
      "Nota: 4.0, probabilidade: 8.8411732468%\n",
      "Nota: 9.5, probabilidade: 8.66778070431%\n",
      "Nota: 3.5, probabilidade: 7.46155549718%\n",
      "Nota: 10.0, probabilidade: 7.28892346935%\n",
      "Nota: 3.0, probabilidade: 6.11981685152%\n",
      "Nota: 2.5, probabilidade: 4.87794675857%\n",
      "Nota: 2.0, probabilidade: 3.77855080046%\n",
      "Nota: 1.5, probabilidade: 2.84448111044%\n",
      "Nota: 1.0, probabilidade: 2.08099205286%\n",
      "Nota: 0.5, probabilidade: 1.47954223926%\n",
      "Nota: 0.0, probabilidade: 1.02228948527%\n"
     ]
    }
   ],
   "source": [
    "# ordenar array pela maior probabilidade\n",
    "probabilidades = sorted(probabilidades,key=itemgetter(1), reverse=True)\n",
    "\n",
    "print(\"As notas mais provaveis de serem tiradas pelos alunos do curso de SI:\")\n",
    "for individual in probabilidades:\n",
    "    print(\"Nota: \" + str(individual[0]) + \", probabilidade: \" + str(individual[1]) + \"%\")"
   ]
  },
  {
   "cell_type": "code",
   "execution_count": null,
   "metadata": {
    "collapsed": true
   },
   "outputs": [],
   "source": []
  }
 ],
 "metadata": {
  "kernelspec": {
   "display_name": "Python 2",
   "language": "python",
   "name": "python2"
  },
  "language_info": {
   "codemirror_mode": {
    "name": "ipython",
    "version": 2
   },
   "file_extension": ".py",
   "mimetype": "text/x-python",
   "name": "python",
   "nbconvert_exporter": "python",
   "pygments_lexer": "ipython2",
   "version": "2.7.11"
  }
 },
 "nbformat": 4,
 "nbformat_minor": 0
}
