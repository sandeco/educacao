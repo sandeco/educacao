{
 "cells": [
  {
   "cell_type": "code",
   "execution_count": 185,
   "metadata": {
    "collapsed": false
   },
   "outputs": [
    {
     "name": "stderr",
     "output_type": "stream",
     "text": [
      "C:\\Anaconda2\\lib\\site-packages\\ipykernel\\__main__.py:14: SettingWithCopyWarning: \n",
      "A value is trying to be set on a copy of a slice from a DataFrame\n",
      "\n",
      "See the caveats in the documentation: http://pandas.pydata.org/pandas-docs/stable/indexing.html#indexing-view-versus-copy\n",
      "C:\\Anaconda2\\lib\\site-packages\\ipykernel\\__main__.py:16: SettingWithCopyWarning: \n",
      "A value is trying to be set on a copy of a slice from a DataFrame\n",
      "\n",
      "See the caveats in the documentation: http://pandas.pydata.org/pandas-docs/stable/indexing.html#indexing-view-versus-copy\n"
     ]
    }
   ],
   "source": [
    "#Import Library\n",
    "from sklearn.linear_model import LogisticRegression\n",
    "#from sklearn.naive_bayes import GaussianNB\n",
    "#from sklearn.neighbors import KNeighborsClassifier\n",
    "#from sklearn.ensemble import RandomForestClassifier, GradientBoostingClassifier\n",
    "from sklearn import tree, svm, naive_bayes, neighbors, ensemble\n",
    "import pandas as pd\n",
    "\n",
    "# lendo dados limpo do curso de si\n",
    "dados = pd.read_csv('si_clean.csv')\n",
    "\n",
    "# montando dados para treinamento \n",
    "train_data_aprovado = dados[:]\n",
    "train_data_aprovado.drop('APROVADO',axis=1, inplace=True)\n",
    "train_data_evasao = dados[:]\n",
    "train_data_evasao.drop('SIT_MATRICULA',axis=1, inplace=True)\n",
    "\n",
    "# target\n",
    "target_data_aprovado = dados['APROVADO']\n",
    "target_data_evasao = dados['SIT_MATRICULA']\n",
    "\n",
    "# variavel contendo todas as tecnicas para realizar os testes\n",
    "tecnicas = [\n",
    "            'Logistic Regression',\n",
    "            'Decision Tree Classifier',\n",
    "            'Decision Tree Regressor',\n",
    "            'SVM SVC',\n",
    "            'SVM LinearSVC',\n",
    "            'SVM SVR',\n",
    "            'Naive Bayes GaussianNB',\n",
    "            'Naive Bayes BernoulliNB',\n",
    "            'Naive Bayes MultinomialNB',\n",
    "            'KNN Classifier',\n",
    "            'KNN Regressor',\n",
    "            'KNN NearestCentroid',\n",
    "            'Random Forest Classifier',\n",
    "            'Random Forest Regressor',\n",
    "            'Gradient Boosting Classifier',\n",
    "            'Gradient Boosting Regressor'\n",
    "]\n",
    "\n",
    "# matriz para armazenar os resultados das técnicas\n",
    "resultados_aprovado = []\n",
    "resultados_evasao = []\n",
    "cross_validation_aprovado = []\n",
    "cross_validation_evasao = []\n",
    "\n",
    "def executarTecnicaAprovado(model, tecnica):\n",
    "    global resultados_aprovado , cross_validation_aprovado\n",
    "    model.fit(train_data_aprovado, target_data_aprovado)\n",
    "    resultados_aprovado += [(tecnica, model.score(train_data_aprovado, target_data_aprovado))]\n",
    "    cross_validation_aprovado += [(tecnica, cross_val_score(model, train_data_aprovado, target_data_aprovado, cv=10))]\n",
    "\n",
    "def executarTecnicaEvasao(model, tecnica):\n",
    "    global resultados_evasao, cross_validation_evasao\n",
    "    model.fit(train_data_evasao, target_data_evasao)\n",
    "    resultados_evasao += [(tecnica, model.score(train_data_evasao, target_data_evasao))]\n",
    "    cross_validation_evasao += [(tecnica, cross_val_score(model, train_data_evasao, target_data_evasao, cv=10))]\n",
    "\n",
    "for tecnica in tecnicas:\n",
    "    if tecnica == 'Logistic Regression':\n",
    "        model = LogisticRegression()\n",
    "    if tecnica == 'Decision Tree Classifier':\n",
    "        model = tree.DecisionTreeClassifier(criterion='gini')\n",
    "    if tecnica == 'Decision Tree Regressor':\n",
    "        model == tree.DecisionTreeRegressor()\n",
    "    if tecnica == 'SVM SVC':\n",
    "        model = svm.SVC()    \n",
    "    if tecnica == 'SVM LinearSVC':\n",
    "        model = svm.LinearSVC()\n",
    "    if tecnica == 'SVM SVR':\n",
    "        model = svm.SVR()\n",
    "    if tecnica == 'Naive Bayes GaussianNB':\n",
    "        model = naive_bayes.GaussianNB()\n",
    "    if tecnica == 'Naive Bayes BernoulliNB':\n",
    "        model = naive_bayes.BernoulliNB()\n",
    "    if tecnica == 'Naive Bayes MultinomialNB':\n",
    "        model = naive_bayes.MultinomialNB()\n",
    "    if tecnica == 'KNN Classifier':\n",
    "        model = neighbors.KNeighborsClassifier()\n",
    "    if tecnica == 'KNN Regressor':\n",
    "        model = neighbors.KNeighborsRegressor()\n",
    "    if tecnica == 'KNN NearestCentroid':\n",
    "        model = neighbors.NearestCentroid()\n",
    "    if tecnica == 'Random Forest Classifier':\n",
    "        model = ensemble.RandomForestClassifier()\n",
    "    if tecnica == 'Random Forest Regressor':\n",
    "        model = ensemble.RandomForestRegressor()\n",
    "    if tecnica == 'Gradient Boosting Classifier':\n",
    "        model = ensemble.GradientBoostingClassifier()\n",
    "    if tecnica == 'Gradient Boosting Regressor':\n",
    "        model = ensemble.GradientBoostingRegressor()\n",
    "        \n",
    "    executarTecnicaAprovado(model, tecnica)\n",
    "    executarTecnicaEvasao(model, tecnica)\n"
   ]
  },
  {
   "cell_type": "code",
   "execution_count": 186,
   "metadata": {
    "collapsed": false
   },
   "outputs": [
    {
     "name": "stdout",
     "output_type": "stream",
     "text": [
      "Tecnicas aplicadas com a variavel classe 'Aprovado':\n"
     ]
    },
    {
     "data": {
      "text/plain": [
       "[('Logistic Regression', 0.97626841243862517),\n",
       " ('Decision Tree Classifier', 1.0),\n",
       " ('Decision Tree Regressor', 1.0),\n",
       " ('SVM SVC', 0.98936170212765961),\n",
       " ('SVM LinearSVC', 0.8281505728314239),\n",
       " ('SVM SVR', 0.93812925357728549),\n",
       " ('Naive Bayes GaussianNB', 0.95826513911620292),\n",
       " ('Naive Bayes BernoulliNB', 0.91325695581014732),\n",
       " ('Naive Bayes MultinomialNB', 0.75531914893617025),\n",
       " ('KNN Classifier', 0.9549918166939444),\n",
       " ('KNN Regressor', 0.81454540840280676),\n",
       " ('KNN NearestCentroid', 0.7021276595744681),\n",
       " ('Random Forest Classifier', 1.0),\n",
       " ('Random Forest Regressor', 1.0),\n",
       " ('Gradient Boosting Classifier', 1.0),\n",
       " ('Gradient Boosting Regressor', 0.99999940161419343)]"
      ]
     },
     "execution_count": 186,
     "metadata": {},
     "output_type": "execute_result"
    }
   ],
   "source": [
    "print(\"Tecnicas aplicadas com a variavel classe 'Aprovado':\")\n",
    "resultados_aprovado"
   ]
  },
  {
   "cell_type": "code",
   "execution_count": 187,
   "metadata": {
    "collapsed": false
   },
   "outputs": [
    {
     "name": "stdout",
     "output_type": "stream",
     "text": [
      "Tecnicas aplicadas com a variavel classe 'Evasao':\n"
     ]
    },
    {
     "data": {
      "text/plain": [
       "[('Logistic Regression', 0.89852700490998361),\n",
       " ('Decision Tree Classifier', 1.0),\n",
       " ('Decision Tree Regressor', 1.0),\n",
       " ('SVM SVC', 0.98199672667757776),\n",
       " ('SVM LinearSVC', 0.86170212765957444),\n",
       " ('SVM SVR', 0.90579102502547926),\n",
       " ('Naive Bayes GaussianNB', 0.88870703764320791),\n",
       " ('Naive Bayes BernoulliNB', 0.87479541734860888),\n",
       " ('Naive Bayes MultinomialNB', 0.73158756137479541),\n",
       " ('KNN Classifier', 0.92553191489361697),\n",
       " ('KNN Regressor', 0.60824725274725266),\n",
       " ('KNN NearestCentroid', 0.71112929623567922),\n",
       " ('Random Forest Classifier', 1.0),\n",
       " ('Random Forest Regressor', 0.97333653846153845),\n",
       " ('Gradient Boosting Classifier', 0.9950900163666121),\n",
       " ('Gradient Boosting Regressor', 0.8922080655913327)]"
      ]
     },
     "execution_count": 187,
     "metadata": {},
     "output_type": "execute_result"
    }
   ],
   "source": [
    "print(\"Tecnicas aplicadas com a variavel classe 'Evasao':\")\n",
    "resultados_evasao"
   ]
  },
  {
   "cell_type": "code",
   "execution_count": 188,
   "metadata": {
    "collapsed": false
   },
   "outputs": [
    {
     "name": "stdout",
     "output_type": "stream",
     "text": [
      "Cross validation sobre as tecnicas aplicadas com a variavel classe 'Aprovado':\n"
     ]
    },
    {
     "data": {
      "text/plain": [
       "[('Logistic Regression',\n",
       "  array([ 0.84677419,  0.97540984,  0.98360656,  0.96721311,  0.97540984,\n",
       "          0.97540984,  0.96721311,  1.        ,  0.99180328,  0.97540984])),\n",
       " ('Decision Tree Classifier',\n",
       "  array([ 1.,  1.,  1.,  1.,  1.,  1.,  1.,  1.,  1.,  1.])),\n",
       " ('Decision Tree Regressor',\n",
       "  array([ 1.,  1.,  1.,  1.,  1.,  1.,  1.,  1.,  1.,  1.])),\n",
       " ('SVM SVC',\n",
       "  array([ 0.59677419,  0.77868852,  0.75409836,  0.8852459 ,  0.90983607,\n",
       "          0.91803279,  0.86885246,  0.80327869,  0.80327869,  0.80327869])),\n",
       " ('SVM LinearSVC',\n",
       "  array([ 0.20967742,  0.19672131,  0.43442623,  0.83606557,  0.83606557,\n",
       "          0.87704918,  0.19672131,  0.8442623 ,  0.83606557,  0.8442623 ])),\n",
       " ('SVM SVR',\n",
       "  array([ 0.12239875, -0.1198634 ,  0.36486873,  0.59469084,  0.23880281,\n",
       "          0.24602374,  0.11758012, -0.63037175,  0.0545493 , -0.01565849])),\n",
       " ('Naive Bayes GaussianNB',\n",
       "  array([ 0.26612903,  0.96721311,  0.91803279,  0.95081967,  0.95081967,\n",
       "          0.98360656,  0.97540984,  0.96721311,  0.96721311,  0.95081967])),\n",
       " ('Naive Bayes BernoulliNB',\n",
       "  array([ 0.91935484,  0.90163934,  0.89344262,  0.8852459 ,  0.86065574,\n",
       "          0.97540984,  0.93442623,  0.97540984,  0.8852459 ,  0.8852459 ])),\n",
       " ('Naive Bayes MultinomialNB',\n",
       "  array([ 0.2016129 ,  0.2295082 ,  1.        ,  0.91803279,  0.90163934,\n",
       "          0.91803279,  0.83606557,  0.85245902,  0.81967213,  0.82786885])),\n",
       " ('KNN Classifier',\n",
       "  array([ 0.20967742,  0.16393443,  0.7704918 ,  0.95901639,  0.77868852,\n",
       "          0.95901639,  0.90163934,  0.86885246,  0.87704918,  0.8442623 ])),\n",
       " ('KNN Regressor',\n",
       "  array([ 0.57801434,  0.39574757,  0.58801743,  0.75069565,  0.06357379,\n",
       "          0.51564339,  0.41459194,  0.11655172,  0.4433825 ,  0.30627451])),\n",
       " ('KNN NearestCentroid',\n",
       "  array([ 0.2016129 ,  0.21311475,  0.99180328,  0.80327869,  0.80327869,\n",
       "          0.80327869,  0.80327869,  0.80327869,  0.80327869,  0.80327869])),\n",
       " ('Random Forest Classifier',\n",
       "  array([ 0.99193548,  0.99180328,  1.        ,  0.98360656,  1.        ,\n",
       "          1.        ,  1.        ,  0.98360656,  1.        ,  1.        ])),\n",
       " ('Random Forest Regressor',\n",
       "  array([ 1.,  1.,  1.,  1.,  1.,  1.,  1.,  1.,  1.,  1.])),\n",
       " ('Gradient Boosting Classifier',\n",
       "  array([ 1.,  1.,  1.,  1.,  1.,  1.,  1.,  1.,  1.,  1.])),\n",
       " ('Gradient Boosting Regressor',\n",
       "  array([ 0.99999928,  0.9999994 ,  0.99999922,  0.99999939,  0.9999994 ,\n",
       "          0.9999994 ,  0.99999924,  0.99999923,  0.99999924,  0.9999994 ]))]"
      ]
     },
     "execution_count": 188,
     "metadata": {},
     "output_type": "execute_result"
    }
   ],
   "source": [
    "print(\"Cross validation sobre as tecnicas aplicadas com a variavel classe 'Aprovado':\")\n",
    "cross_validation_aprovado"
   ]
  },
  {
   "cell_type": "code",
   "execution_count": 189,
   "metadata": {
    "collapsed": false
   },
   "outputs": [
    {
     "name": "stdout",
     "output_type": "stream",
     "text": [
      "Cross validation sobre as tecnicas aplicadas com a variavel classe 'Evasao':\n"
     ]
    },
    {
     "data": {
      "text/plain": [
       "[('Logistic Regression',\n",
       "  array([ 0.78861789,  0.90243902,  0.86885246,  0.93442623,  0.90983607,\n",
       "          0.8852459 ,  0.87704918,  0.91803279,  0.90983607,  0.86885246])),\n",
       " ('Decision Tree Classifier',\n",
       "  array([ 0.93495935,  0.95121951,  0.83606557,  0.52459016,  0.50819672,\n",
       "          0.98360656,  0.95901639,  0.97540984,  0.93442623,  0.95081967])),\n",
       " ('Decision Tree Regressor',\n",
       "  array([ 0.92682927,  0.95121951,  0.83606557,  0.51639344,  0.50819672,\n",
       "          0.97540984,  0.95901639,  0.97540984,  0.93442623,  0.97540984])),\n",
       " ('SVM SVC',\n",
       "  array([ 0.82926829,  0.84552846,  0.85245902,  0.8442623 ,  0.81147541,\n",
       "          0.93442623,  0.89344262,  0.86885246,  0.86885246,  0.86065574])),\n",
       " ('SVM LinearSVC',\n",
       "  array([ 0.15447154,  0.88617886,  0.86065574,  0.86065574,  0.85245902,\n",
       "          0.86065574,  0.85245902,  0.85245902,  0.85245902,  0.14754098])),\n",
       " ('SVM SVR',\n",
       "  array([ 0.04154602, -0.15200552,  0.37999942,  0.39182982,  0.10364721,\n",
       "         -0.60159281,  0.28406712, -0.28869019, -0.20493588, -7.56444704])),\n",
       " ('Naive Bayes GaussianNB',\n",
       "  array([ 0.32520325,  0.90243902,  0.8442623 ,  0.92622951,  0.90983607,\n",
       "          0.89344262,  0.8852459 ,  0.92622951,  0.93442623,  0.80327869])),\n",
       " ('Naive Bayes BernoulliNB',\n",
       "  array([ 0.81300813,  0.89430894,  0.83606557,  0.91803279,  0.91803279,\n",
       "          0.86885246,  0.8852459 ,  0.90163934,  0.90983607,  0.76229508])),\n",
       " ('Naive Bayes MultinomialNB',\n",
       "  array([ 0.15447154,  0.15447154,  0.81967213,  0.91803279,  0.90163934,\n",
       "          0.89344262,  0.86065574,  0.8852459 ,  0.86885246,  0.85245902])),\n",
       " ('KNN Classifier',\n",
       "  array([ 0.42276423,  0.10569106,  0.76229508,  0.7704918 ,  0.58196721,\n",
       "          0.80327869,  0.90163934,  0.86885246,  0.86065574,  0.85245902])),\n",
       " ('KNN Regressor',\n",
       "  array([-0.13096104,  0.19477477,  0.49797961,  0.40300278, -0.00121581,\n",
       "         -0.07964602,  0.10242857, -0.02605128,  0.18322034, -0.37123967])),\n",
       " ('KNN NearestCentroid',\n",
       "  array([ 0.15447154,  0.15447154,  0.8442623 ,  0.85245902,  0.85245902,\n",
       "          0.85245902,  0.85245902,  0.85245902,  0.85245902,  0.85245902])),\n",
       " ('Random Forest Classifier',\n",
       "  array([ 0.94308943,  0.96747967,  1.        ,  0.98360656,  0.97540984,\n",
       "          0.99180328,  0.95081967,  0.97540984,  0.96721311,  0.92622951])),\n",
       " ('Random Forest Regressor',\n",
       "  array([ 0.74601299,  0.78391892,  0.85866543,  0.70225517,  0.56613982,\n",
       "          0.34261554,  0.8475    ,  0.9374359 ,  0.59936441,  0.76809917])),\n",
       " ('Gradient Boosting Classifier',\n",
       "  array([ 0.95934959,  1.        ,  0.92622951,  0.97540984,  0.96721311,\n",
       "          1.        ,  0.95081967,  0.98360656,  0.96721311,  0.97540984])),\n",
       " ('Gradient Boosting Regressor',\n",
       "  array([ 0.70969353,  0.84537929,  0.78789938,  0.72770319,  0.68222893,\n",
       "          0.67378096,  0.89478818,  0.90077191,  0.81621517,  0.52045951]))]"
      ]
     },
     "execution_count": 189,
     "metadata": {},
     "output_type": "execute_result"
    }
   ],
   "source": [
    "print(\"Cross validation sobre as tecnicas aplicadas com a variavel classe 'Evasao':\")\n",
    "cross_validation_evasao"
   ]
  },
  {
   "cell_type": "code",
   "execution_count": null,
   "metadata": {
    "collapsed": false
   },
   "outputs": [],
   "source": []
  },
  {
   "cell_type": "code",
   "execution_count": null,
   "metadata": {
    "collapsed": false
   },
   "outputs": [],
   "source": []
  },
  {
   "cell_type": "code",
   "execution_count": null,
   "metadata": {
    "collapsed": true
   },
   "outputs": [],
   "source": []
  }
 ],
 "metadata": {
  "kernelspec": {
   "display_name": "Python 2",
   "language": "python",
   "name": "python2"
  },
  "language_info": {
   "codemirror_mode": {
    "name": "ipython",
    "version": 2
   },
   "file_extension": ".py",
   "mimetype": "text/x-python",
   "name": "python",
   "nbconvert_exporter": "python",
   "pygments_lexer": "ipython2",
   "version": "2.7.11"
  }
 },
 "nbformat": 4,
 "nbformat_minor": 0
}
