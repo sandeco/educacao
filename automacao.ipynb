{
 "cells": [
  {
   "cell_type": "code",
   "execution_count": 3,
   "metadata": {
    "collapsed": false
   },
   "outputs": [
    {
     "data": {
      "text/html": [
       "<div>\n",
       "<table border=\"1\" class=\"dataframe\">\n",
       "  <thead>\n",
       "    <tr style=\"text-align: right;\">\n",
       "      <th></th>\n",
       "      <th>SIT_MATRICULA</th>\n",
       "      <th>PAI_FALECIDO</th>\n",
       "      <th>MAE_FALECIDO</th>\n",
       "      <th>RENDA_FAMILIAR</th>\n",
       "      <th>TIPO_ESCOLA_ORIGEM</th>\n",
       "      <th>ANO_CONCLUSAO_2_GRAU</th>\n",
       "      <th>RENDA_PER_CAPITA</th>\n",
       "      <th>COD_ESTADO_CIVIL</th>\n",
       "      <th>N_FILHOS</th>\n",
       "      <th>SEXO</th>\n",
       "      <th>...</th>\n",
       "      <th>NIVEL_FALA</th>\n",
       "      <th>NIVEL_COMPREENSAO</th>\n",
       "      <th>NIVEL_ESCRITA</th>\n",
       "      <th>NIVEL_LEITURA</th>\n",
       "      <th>ANO LETIVO IC</th>\n",
       "      <th>ANO LETIVO BOLSA</th>\n",
       "      <th>NOTA</th>\n",
       "      <th>N_FALTAS</th>\n",
       "      <th>COD_DISICIPLINA</th>\n",
       "      <th>ANO_INGRESSSO</th>\n",
       "    </tr>\n",
       "  </thead>\n",
       "  <tbody>\n",
       "    <tr>\n",
       "      <th>0</th>\n",
       "      <td>9</td>\n",
       "      <td>0.0</td>\n",
       "      <td>0.0</td>\n",
       "      <td>NaN</td>\n",
       "      <td>O</td>\n",
       "      <td>2007.0</td>\n",
       "      <td>NaN</td>\n",
       "      <td>NaN</td>\n",
       "      <td>NaN</td>\n",
       "      <td>M</td>\n",
       "      <td>...</td>\n",
       "      <td>3.0</td>\n",
       "      <td>3.0</td>\n",
       "      <td>3.0</td>\n",
       "      <td>3.0</td>\n",
       "      <td>NaN</td>\n",
       "      <td>NaN</td>\n",
       "      <td>7.30</td>\n",
       "      <td>NaN</td>\n",
       "      <td>8555.0</td>\n",
       "      <td>2011</td>\n",
       "    </tr>\n",
       "    <tr>\n",
       "      <th>1</th>\n",
       "      <td>9</td>\n",
       "      <td>0.0</td>\n",
       "      <td>0.0</td>\n",
       "      <td>NaN</td>\n",
       "      <td>O</td>\n",
       "      <td>2007.0</td>\n",
       "      <td>NaN</td>\n",
       "      <td>NaN</td>\n",
       "      <td>NaN</td>\n",
       "      <td>M</td>\n",
       "      <td>...</td>\n",
       "      <td>2.0</td>\n",
       "      <td>2.0</td>\n",
       "      <td>2.0</td>\n",
       "      <td>2.0</td>\n",
       "      <td>NaN</td>\n",
       "      <td>NaN</td>\n",
       "      <td>7.30</td>\n",
       "      <td>NaN</td>\n",
       "      <td>8555.0</td>\n",
       "      <td>2011</td>\n",
       "    </tr>\n",
       "    <tr>\n",
       "      <th>2</th>\n",
       "      <td>9</td>\n",
       "      <td>0.0</td>\n",
       "      <td>0.0</td>\n",
       "      <td>NaN</td>\n",
       "      <td>O</td>\n",
       "      <td>2007.0</td>\n",
       "      <td>NaN</td>\n",
       "      <td>NaN</td>\n",
       "      <td>NaN</td>\n",
       "      <td>M</td>\n",
       "      <td>...</td>\n",
       "      <td>3.0</td>\n",
       "      <td>3.0</td>\n",
       "      <td>3.0</td>\n",
       "      <td>3.0</td>\n",
       "      <td>NaN</td>\n",
       "      <td>NaN</td>\n",
       "      <td>6.30</td>\n",
       "      <td>NaN</td>\n",
       "      <td>648.0</td>\n",
       "      <td>2011</td>\n",
       "    </tr>\n",
       "    <tr>\n",
       "      <th>3</th>\n",
       "      <td>9</td>\n",
       "      <td>0.0</td>\n",
       "      <td>0.0</td>\n",
       "      <td>NaN</td>\n",
       "      <td>O</td>\n",
       "      <td>2007.0</td>\n",
       "      <td>NaN</td>\n",
       "      <td>NaN</td>\n",
       "      <td>NaN</td>\n",
       "      <td>M</td>\n",
       "      <td>...</td>\n",
       "      <td>2.0</td>\n",
       "      <td>2.0</td>\n",
       "      <td>2.0</td>\n",
       "      <td>2.0</td>\n",
       "      <td>NaN</td>\n",
       "      <td>NaN</td>\n",
       "      <td>6.30</td>\n",
       "      <td>NaN</td>\n",
       "      <td>648.0</td>\n",
       "      <td>2011</td>\n",
       "    </tr>\n",
       "    <tr>\n",
       "      <th>4</th>\n",
       "      <td>9</td>\n",
       "      <td>0.0</td>\n",
       "      <td>0.0</td>\n",
       "      <td>NaN</td>\n",
       "      <td>O</td>\n",
       "      <td>2007.0</td>\n",
       "      <td>NaN</td>\n",
       "      <td>NaN</td>\n",
       "      <td>NaN</td>\n",
       "      <td>M</td>\n",
       "      <td>...</td>\n",
       "      <td>3.0</td>\n",
       "      <td>3.0</td>\n",
       "      <td>3.0</td>\n",
       "      <td>3.0</td>\n",
       "      <td>NaN</td>\n",
       "      <td>NaN</td>\n",
       "      <td>9.30</td>\n",
       "      <td>NaN</td>\n",
       "      <td>9108.0</td>\n",
       "      <td>2011</td>\n",
       "    </tr>\n",
       "  </tbody>\n",
       "</table>\n",
       "<p>5 rows × 24 columns</p>\n",
       "</div>"
      ],
      "text/plain": [
       "   SIT_MATRICULA  PAI_FALECIDO  MAE_FALECIDO  RENDA_FAMILIAR  \\\n",
       "0              9           0.0           0.0             NaN   \n",
       "1              9           0.0           0.0             NaN   \n",
       "2              9           0.0           0.0             NaN   \n",
       "3              9           0.0           0.0             NaN   \n",
       "4              9           0.0           0.0             NaN   \n",
       "\n",
       "  TIPO_ESCOLA_ORIGEM  ANO_CONCLUSAO_2_GRAU  RENDA_PER_CAPITA COD_ESTADO_CIVIL  \\\n",
       "0                  O                2007.0               NaN              NaN   \n",
       "1                  O                2007.0               NaN              NaN   \n",
       "2                  O                2007.0               NaN              NaN   \n",
       "3                  O                2007.0               NaN              NaN   \n",
       "4                  O                2007.0               NaN              NaN   \n",
       "\n",
       "   N_FILHOS SEXO      ...       NIVEL_FALA NIVEL_COMPREENSAO NIVEL_ESCRITA  \\\n",
       "0       NaN    M      ...              3.0               3.0           3.0   \n",
       "1       NaN    M      ...              2.0               2.0           2.0   \n",
       "2       NaN    M      ...              3.0               3.0           3.0   \n",
       "3       NaN    M      ...              2.0               2.0           2.0   \n",
       "4       NaN    M      ...              3.0               3.0           3.0   \n",
       "\n",
       "  NIVEL_LEITURA  ANO LETIVO IC  ANO LETIVO BOLSA  NOTA  N_FALTAS  \\\n",
       "0           3.0            NaN               NaN  7.30       NaN   \n",
       "1           2.0            NaN               NaN  7.30       NaN   \n",
       "2           3.0            NaN               NaN  6.30       NaN   \n",
       "3           2.0            NaN               NaN  6.30       NaN   \n",
       "4           3.0            NaN               NaN  9.30       NaN   \n",
       "\n",
       "   COD_DISICIPLINA  ANO_INGRESSSO  \n",
       "0           8555.0           2011  \n",
       "1           8555.0           2011  \n",
       "2            648.0           2011  \n",
       "3            648.0           2011  \n",
       "4           9108.0           2011  \n",
       "\n",
       "[5 rows x 24 columns]"
      ]
     },
     "execution_count": 3,
     "metadata": {},
     "output_type": "execute_result"
    }
   ],
   "source": [
    "import pandas as pd\n",
    "import matplotlib.pyplot as plt\n",
    "import seaborn as sb\n",
    "\n",
    "%matplotlib inline\n",
    "\n",
    "eca = pd.read_csv('eca.csv')\n",
    "\n",
    "eca.head()\n"
   ]
  },
  {
   "cell_type": "code",
   "execution_count": 4,
   "metadata": {
    "collapsed": false
   },
   "outputs": [
    {
     "data": {
      "text/plain": [
       "SIT_MATRICULA             int64\n",
       "PAI_FALECIDO            float64\n",
       "MAE_FALECIDO            float64\n",
       "RENDA_FAMILIAR          float64\n",
       "TIPO_ESCOLA_ORIGEM       object\n",
       "ANO_CONCLUSAO_2_GRAU    float64\n",
       "RENDA_PER_CAPITA        float64\n",
       "COD_ESTADO_CIVIL         object\n",
       "N_FILHOS                float64\n",
       "SEXO                     object\n",
       "DT_NASCIMENTO            object\n",
       "PROFISSAO                object\n",
       "DESC_CIDADE              object\n",
       "DESC_IDIOMA              object\n",
       "NIVEL_FALA              float64\n",
       "NIVEL_COMPREENSAO       float64\n",
       "NIVEL_ESCRITA           float64\n",
       "NIVEL_LEITURA           float64\n",
       "ANO LETIVO IC           float64\n",
       "ANO LETIVO BOLSA        float64\n",
       "NOTA                     object\n",
       "N_FALTAS                float64\n",
       "COD_DISICIPLINA         float64\n",
       "ANO_INGRESSSO             int64\n",
       "dtype: object"
      ]
     },
     "execution_count": 4,
     "metadata": {},
     "output_type": "execute_result"
    }
   ],
   "source": [
    "eca.dtypes"
   ]
  },
  {
   "cell_type": "code",
   "execution_count": 5,
   "metadata": {
    "collapsed": false
   },
   "outputs": [
    {
     "name": "stderr",
     "output_type": "stream",
     "text": [
      "/home/sandeco/anaconda3/lib/python3.5/site-packages/numpy/lib/function_base.py:3823: RuntimeWarning: Invalid value encountered in percentile\n",
      "  RuntimeWarning)\n"
     ]
    },
    {
     "data": {
      "text/html": [
       "<div>\n",
       "<table border=\"1\" class=\"dataframe\">\n",
       "  <thead>\n",
       "    <tr style=\"text-align: right;\">\n",
       "      <th></th>\n",
       "      <th>SIT_MATRICULA</th>\n",
       "      <th>PAI_FALECIDO</th>\n",
       "      <th>MAE_FALECIDO</th>\n",
       "      <th>RENDA_FAMILIAR</th>\n",
       "      <th>ANO_CONCLUSAO_2_GRAU</th>\n",
       "      <th>RENDA_PER_CAPITA</th>\n",
       "      <th>N_FILHOS</th>\n",
       "      <th>NIVEL_FALA</th>\n",
       "      <th>NIVEL_COMPREENSAO</th>\n",
       "      <th>NIVEL_ESCRITA</th>\n",
       "      <th>NIVEL_LEITURA</th>\n",
       "      <th>ANO LETIVO IC</th>\n",
       "      <th>ANO LETIVO BOLSA</th>\n",
       "      <th>N_FALTAS</th>\n",
       "      <th>COD_DISICIPLINA</th>\n",
       "      <th>ANO_INGRESSSO</th>\n",
       "    </tr>\n",
       "  </thead>\n",
       "  <tbody>\n",
       "    <tr>\n",
       "      <th>count</th>\n",
       "      <td>25123.000000</td>\n",
       "      <td>18923.000000</td>\n",
       "      <td>19036.0</td>\n",
       "      <td>14042.000000</td>\n",
       "      <td>23041.000000</td>\n",
       "      <td>14415.000000</td>\n",
       "      <td>12365.000000</td>\n",
       "      <td>14173.000000</td>\n",
       "      <td>14173.000000</td>\n",
       "      <td>14173.000000</td>\n",
       "      <td>14173.000000</td>\n",
       "      <td>0.0</td>\n",
       "      <td>0.0</td>\n",
       "      <td>19810.000000</td>\n",
       "      <td>20770.000000</td>\n",
       "      <td>25123.000000</td>\n",
       "    </tr>\n",
       "    <tr>\n",
       "      <th>mean</th>\n",
       "      <td>6.107232</td>\n",
       "      <td>0.018390</td>\n",
       "      <td>0.0</td>\n",
       "      <td>1.111238</td>\n",
       "      <td>2007.717677</td>\n",
       "      <td>6.803052</td>\n",
       "      <td>0.093894</td>\n",
       "      <td>1.749030</td>\n",
       "      <td>1.985677</td>\n",
       "      <td>1.809074</td>\n",
       "      <td>2.156989</td>\n",
       "      <td>NaN</td>\n",
       "      <td>NaN</td>\n",
       "      <td>10.560626</td>\n",
       "      <td>10249.072123</td>\n",
       "      <td>2010.982645</td>\n",
       "    </tr>\n",
       "    <tr>\n",
       "      <th>std</th>\n",
       "      <td>6.988199</td>\n",
       "      <td>0.134362</td>\n",
       "      <td>0.0</td>\n",
       "      <td>1.832612</td>\n",
       "      <td>4.323127</td>\n",
       "      <td>4.262282</td>\n",
       "      <td>0.459452</td>\n",
       "      <td>0.749367</td>\n",
       "      <td>0.747188</td>\n",
       "      <td>0.735254</td>\n",
       "      <td>0.741196</td>\n",
       "      <td>NaN</td>\n",
       "      <td>NaN</td>\n",
       "      <td>18.219861</td>\n",
       "      <td>4530.071757</td>\n",
       "      <td>2.257280</td>\n",
       "    </tr>\n",
       "    <tr>\n",
       "      <th>min</th>\n",
       "      <td>0.000000</td>\n",
       "      <td>0.000000</td>\n",
       "      <td>0.0</td>\n",
       "      <td>0.000000</td>\n",
       "      <td>1973.000000</td>\n",
       "      <td>0.000000</td>\n",
       "      <td>0.000000</td>\n",
       "      <td>1.000000</td>\n",
       "      <td>1.000000</td>\n",
       "      <td>1.000000</td>\n",
       "      <td>1.000000</td>\n",
       "      <td>NaN</td>\n",
       "      <td>NaN</td>\n",
       "      <td>0.000000</td>\n",
       "      <td>648.000000</td>\n",
       "      <td>1950.000000</td>\n",
       "    </tr>\n",
       "    <tr>\n",
       "      <th>25%</th>\n",
       "      <td>0.000000</td>\n",
       "      <td>NaN</td>\n",
       "      <td>NaN</td>\n",
       "      <td>NaN</td>\n",
       "      <td>NaN</td>\n",
       "      <td>NaN</td>\n",
       "      <td>NaN</td>\n",
       "      <td>NaN</td>\n",
       "      <td>NaN</td>\n",
       "      <td>NaN</td>\n",
       "      <td>NaN</td>\n",
       "      <td>NaN</td>\n",
       "      <td>NaN</td>\n",
       "      <td>NaN</td>\n",
       "      <td>NaN</td>\n",
       "      <td>2009.000000</td>\n",
       "    </tr>\n",
       "    <tr>\n",
       "      <th>50%</th>\n",
       "      <td>0.000000</td>\n",
       "      <td>NaN</td>\n",
       "      <td>NaN</td>\n",
       "      <td>NaN</td>\n",
       "      <td>NaN</td>\n",
       "      <td>NaN</td>\n",
       "      <td>NaN</td>\n",
       "      <td>NaN</td>\n",
       "      <td>NaN</td>\n",
       "      <td>NaN</td>\n",
       "      <td>NaN</td>\n",
       "      <td>NaN</td>\n",
       "      <td>NaN</td>\n",
       "      <td>NaN</td>\n",
       "      <td>NaN</td>\n",
       "      <td>2011.000000</td>\n",
       "    </tr>\n",
       "    <tr>\n",
       "      <th>75%</th>\n",
       "      <td>10.000000</td>\n",
       "      <td>NaN</td>\n",
       "      <td>NaN</td>\n",
       "      <td>NaN</td>\n",
       "      <td>NaN</td>\n",
       "      <td>NaN</td>\n",
       "      <td>NaN</td>\n",
       "      <td>NaN</td>\n",
       "      <td>NaN</td>\n",
       "      <td>NaN</td>\n",
       "      <td>NaN</td>\n",
       "      <td>NaN</td>\n",
       "      <td>NaN</td>\n",
       "      <td>NaN</td>\n",
       "      <td>NaN</td>\n",
       "      <td>2012.000000</td>\n",
       "    </tr>\n",
       "    <tr>\n",
       "      <th>max</th>\n",
       "      <td>20.000000</td>\n",
       "      <td>1.000000</td>\n",
       "      <td>0.0</td>\n",
       "      <td>6.000000</td>\n",
       "      <td>2015.000000</td>\n",
       "      <td>10.000000</td>\n",
       "      <td>4.000000</td>\n",
       "      <td>3.000000</td>\n",
       "      <td>3.000000</td>\n",
       "      <td>3.000000</td>\n",
       "      <td>3.000000</td>\n",
       "      <td>NaN</td>\n",
       "      <td>NaN</td>\n",
       "      <td>128.000000</td>\n",
       "      <td>24371.000000</td>\n",
       "      <td>2016.000000</td>\n",
       "    </tr>\n",
       "  </tbody>\n",
       "</table>\n",
       "</div>"
      ],
      "text/plain": [
       "       SIT_MATRICULA  PAI_FALECIDO  MAE_FALECIDO  RENDA_FAMILIAR  \\\n",
       "count   25123.000000  18923.000000       19036.0    14042.000000   \n",
       "mean        6.107232      0.018390           0.0        1.111238   \n",
       "std         6.988199      0.134362           0.0        1.832612   \n",
       "min         0.000000      0.000000           0.0        0.000000   \n",
       "25%         0.000000           NaN           NaN             NaN   \n",
       "50%         0.000000           NaN           NaN             NaN   \n",
       "75%        10.000000           NaN           NaN             NaN   \n",
       "max        20.000000      1.000000           0.0        6.000000   \n",
       "\n",
       "       ANO_CONCLUSAO_2_GRAU  RENDA_PER_CAPITA      N_FILHOS    NIVEL_FALA  \\\n",
       "count          23041.000000      14415.000000  12365.000000  14173.000000   \n",
       "mean            2007.717677          6.803052      0.093894      1.749030   \n",
       "std                4.323127          4.262282      0.459452      0.749367   \n",
       "min             1973.000000          0.000000      0.000000      1.000000   \n",
       "25%                     NaN               NaN           NaN           NaN   \n",
       "50%                     NaN               NaN           NaN           NaN   \n",
       "75%                     NaN               NaN           NaN           NaN   \n",
       "max             2015.000000         10.000000      4.000000      3.000000   \n",
       "\n",
       "       NIVEL_COMPREENSAO  NIVEL_ESCRITA  NIVEL_LEITURA  ANO LETIVO IC  \\\n",
       "count       14173.000000   14173.000000   14173.000000            0.0   \n",
       "mean            1.985677       1.809074       2.156989            NaN   \n",
       "std             0.747188       0.735254       0.741196            NaN   \n",
       "min             1.000000       1.000000       1.000000            NaN   \n",
       "25%                  NaN            NaN            NaN            NaN   \n",
       "50%                  NaN            NaN            NaN            NaN   \n",
       "75%                  NaN            NaN            NaN            NaN   \n",
       "max             3.000000       3.000000       3.000000            NaN   \n",
       "\n",
       "       ANO LETIVO BOLSA      N_FALTAS  COD_DISICIPLINA  ANO_INGRESSSO  \n",
       "count               0.0  19810.000000     20770.000000   25123.000000  \n",
       "mean                NaN     10.560626     10249.072123    2010.982645  \n",
       "std                 NaN     18.219861      4530.071757       2.257280  \n",
       "min                 NaN      0.000000       648.000000    1950.000000  \n",
       "25%                 NaN           NaN              NaN    2009.000000  \n",
       "50%                 NaN           NaN              NaN    2011.000000  \n",
       "75%                 NaN           NaN              NaN    2012.000000  \n",
       "max                 NaN    128.000000     24371.000000    2016.000000  "
      ]
     },
     "execution_count": 5,
     "metadata": {},
     "output_type": "execute_result"
    }
   ],
   "source": [
    "#VISUALIZANDO OS DESCRITORES DO DATASET\n",
    "\n",
    "eca.describe()"
   ]
  },
  {
   "cell_type": "code",
   "execution_count": 6,
   "metadata": {
    "collapsed": false
   },
   "outputs": [
    {
     "data": {
      "text/html": [
       "<div>\n",
       "<table border=\"1\" class=\"dataframe\">\n",
       "  <thead>\n",
       "    <tr style=\"text-align: right;\">\n",
       "      <th></th>\n",
       "      <th>PAI_FALECIDO</th>\n",
       "      <th>TIPO_ESCOLA_ORIGEM</th>\n",
       "      <th>ANO_CONCLUSAO_2_GRAU</th>\n",
       "      <th>RENDA_PER_CAPITA</th>\n",
       "      <th>COD_ESTADO_CIVIL</th>\n",
       "      <th>N_FILHOS</th>\n",
       "      <th>SEXO</th>\n",
       "      <th>DT_NASCIMENTO</th>\n",
       "      <th>PROFISSAO</th>\n",
       "      <th>NIVEL_FALA</th>\n",
       "      <th>NIVEL_COMPREENSAO</th>\n",
       "      <th>NIVEL_ESCRITA</th>\n",
       "      <th>NIVEL_LEITURA</th>\n",
       "      <th>ANO LETIVO IC</th>\n",
       "      <th>ANO LETIVO BOLSA</th>\n",
       "      <th>NOTA</th>\n",
       "      <th>N_FALTAS</th>\n",
       "      <th>COD_DISICIPLINA</th>\n",
       "      <th>ANO_INGRESSSO</th>\n",
       "    </tr>\n",
       "  </thead>\n",
       "  <tbody>\n",
       "    <tr>\n",
       "      <th>0</th>\n",
       "      <td>0.0</td>\n",
       "      <td>O</td>\n",
       "      <td>2007.0</td>\n",
       "      <td>NaN</td>\n",
       "      <td>NaN</td>\n",
       "      <td>NaN</td>\n",
       "      <td>M</td>\n",
       "      <td>1988-11-26 00:00:00.000</td>\n",
       "      <td>Manipulador de Fotografia</td>\n",
       "      <td>3.0</td>\n",
       "      <td>3.0</td>\n",
       "      <td>3.0</td>\n",
       "      <td>3.0</td>\n",
       "      <td>NaN</td>\n",
       "      <td>NaN</td>\n",
       "      <td>7.30</td>\n",
       "      <td>NaN</td>\n",
       "      <td>8555.0</td>\n",
       "      <td>2011</td>\n",
       "    </tr>\n",
       "    <tr>\n",
       "      <th>1</th>\n",
       "      <td>0.0</td>\n",
       "      <td>O</td>\n",
       "      <td>2007.0</td>\n",
       "      <td>NaN</td>\n",
       "      <td>NaN</td>\n",
       "      <td>NaN</td>\n",
       "      <td>M</td>\n",
       "      <td>1988-11-26 00:00:00.000</td>\n",
       "      <td>Manipulador de Fotografia</td>\n",
       "      <td>2.0</td>\n",
       "      <td>2.0</td>\n",
       "      <td>2.0</td>\n",
       "      <td>2.0</td>\n",
       "      <td>NaN</td>\n",
       "      <td>NaN</td>\n",
       "      <td>7.30</td>\n",
       "      <td>NaN</td>\n",
       "      <td>8555.0</td>\n",
       "      <td>2011</td>\n",
       "    </tr>\n",
       "    <tr>\n",
       "      <th>2</th>\n",
       "      <td>0.0</td>\n",
       "      <td>O</td>\n",
       "      <td>2007.0</td>\n",
       "      <td>NaN</td>\n",
       "      <td>NaN</td>\n",
       "      <td>NaN</td>\n",
       "      <td>M</td>\n",
       "      <td>1988-11-26 00:00:00.000</td>\n",
       "      <td>Manipulador de Fotografia</td>\n",
       "      <td>3.0</td>\n",
       "      <td>3.0</td>\n",
       "      <td>3.0</td>\n",
       "      <td>3.0</td>\n",
       "      <td>NaN</td>\n",
       "      <td>NaN</td>\n",
       "      <td>6.30</td>\n",
       "      <td>NaN</td>\n",
       "      <td>648.0</td>\n",
       "      <td>2011</td>\n",
       "    </tr>\n",
       "    <tr>\n",
       "      <th>3</th>\n",
       "      <td>0.0</td>\n",
       "      <td>O</td>\n",
       "      <td>2007.0</td>\n",
       "      <td>NaN</td>\n",
       "      <td>NaN</td>\n",
       "      <td>NaN</td>\n",
       "      <td>M</td>\n",
       "      <td>1988-11-26 00:00:00.000</td>\n",
       "      <td>Manipulador de Fotografia</td>\n",
       "      <td>2.0</td>\n",
       "      <td>2.0</td>\n",
       "      <td>2.0</td>\n",
       "      <td>2.0</td>\n",
       "      <td>NaN</td>\n",
       "      <td>NaN</td>\n",
       "      <td>6.30</td>\n",
       "      <td>NaN</td>\n",
       "      <td>648.0</td>\n",
       "      <td>2011</td>\n",
       "    </tr>\n",
       "    <tr>\n",
       "      <th>4</th>\n",
       "      <td>0.0</td>\n",
       "      <td>O</td>\n",
       "      <td>2007.0</td>\n",
       "      <td>NaN</td>\n",
       "      <td>NaN</td>\n",
       "      <td>NaN</td>\n",
       "      <td>M</td>\n",
       "      <td>1988-11-26 00:00:00.000</td>\n",
       "      <td>Manipulador de Fotografia</td>\n",
       "      <td>3.0</td>\n",
       "      <td>3.0</td>\n",
       "      <td>3.0</td>\n",
       "      <td>3.0</td>\n",
       "      <td>NaN</td>\n",
       "      <td>NaN</td>\n",
       "      <td>9.30</td>\n",
       "      <td>NaN</td>\n",
       "      <td>9108.0</td>\n",
       "      <td>2011</td>\n",
       "    </tr>\n",
       "  </tbody>\n",
       "</table>\n",
       "</div>"
      ],
      "text/plain": [
       "   PAI_FALECIDO TIPO_ESCOLA_ORIGEM  ANO_CONCLUSAO_2_GRAU  RENDA_PER_CAPITA  \\\n",
       "0           0.0                  O                2007.0               NaN   \n",
       "1           0.0                  O                2007.0               NaN   \n",
       "2           0.0                  O                2007.0               NaN   \n",
       "3           0.0                  O                2007.0               NaN   \n",
       "4           0.0                  O                2007.0               NaN   \n",
       "\n",
       "  COD_ESTADO_CIVIL  N_FILHOS SEXO            DT_NASCIMENTO  \\\n",
       "0              NaN       NaN    M  1988-11-26 00:00:00.000   \n",
       "1              NaN       NaN    M  1988-11-26 00:00:00.000   \n",
       "2              NaN       NaN    M  1988-11-26 00:00:00.000   \n",
       "3              NaN       NaN    M  1988-11-26 00:00:00.000   \n",
       "4              NaN       NaN    M  1988-11-26 00:00:00.000   \n",
       "\n",
       "                   PROFISSAO  NIVEL_FALA  NIVEL_COMPREENSAO  NIVEL_ESCRITA  \\\n",
       "0  Manipulador de Fotografia         3.0                3.0            3.0   \n",
       "1  Manipulador de Fotografia         2.0                2.0            2.0   \n",
       "2  Manipulador de Fotografia         3.0                3.0            3.0   \n",
       "3  Manipulador de Fotografia         2.0                2.0            2.0   \n",
       "4  Manipulador de Fotografia         3.0                3.0            3.0   \n",
       "\n",
       "   NIVEL_LEITURA  ANO LETIVO IC  ANO LETIVO BOLSA  NOTA  N_FALTAS  \\\n",
       "0            3.0            NaN               NaN  7.30       NaN   \n",
       "1            2.0            NaN               NaN  7.30       NaN   \n",
       "2            3.0            NaN               NaN  6.30       NaN   \n",
       "3            2.0            NaN               NaN  6.30       NaN   \n",
       "4            3.0            NaN               NaN  9.30       NaN   \n",
       "\n",
       "   COD_DISICIPLINA  ANO_INGRESSSO  \n",
       "0           8555.0           2011  \n",
       "1           8555.0           2011  \n",
       "2            648.0           2011  \n",
       "3            648.0           2011  \n",
       "4           9108.0           2011  "
      ]
     },
     "execution_count": 6,
     "metadata": {},
     "output_type": "execute_result"
    }
   ],
   "source": [
    "#EXCLUINDO AS COLUNAS [MATRICULA, PAI_FALECIDO, MAE_FALECIDO, ANO LETIVO IC, ANO LETIVO BOLSA]\n",
    "eca.drop(eca.columns[[0, 2, 3, 12, 13]],axis=1, inplace=True)\n",
    "\n",
    "eca.head()"
   ]
  },
  {
   "cell_type": "code",
   "execution_count": 7,
   "metadata": {
    "collapsed": false
   },
   "outputs": [
    {
     "ename": "KeyError",
     "evalue": "'DESC_IDIOMA'",
     "output_type": "error",
     "traceback": [
      "\u001b[1;31m---------------------------------------------------------------------------\u001b[0m",
      "\u001b[1;31mKeyError\u001b[0m                                  Traceback (most recent call last)",
      "\u001b[1;32m/home/sandeco/anaconda3/lib/python3.5/site-packages/pandas/indexes/base.py\u001b[0m in \u001b[0;36mget_loc\u001b[1;34m(self, key, method, tolerance)\u001b[0m\n\u001b[0;32m   1944\u001b[0m             \u001b[1;32mtry\u001b[0m\u001b[1;33m:\u001b[0m\u001b[1;33m\u001b[0m\u001b[0m\n\u001b[1;32m-> 1945\u001b[1;33m                 \u001b[1;32mreturn\u001b[0m \u001b[0mself\u001b[0m\u001b[1;33m.\u001b[0m\u001b[0m_engine\u001b[0m\u001b[1;33m.\u001b[0m\u001b[0mget_loc\u001b[0m\u001b[1;33m(\u001b[0m\u001b[0mkey\u001b[0m\u001b[1;33m)\u001b[0m\u001b[1;33m\u001b[0m\u001b[0m\n\u001b[0m\u001b[0;32m   1946\u001b[0m             \u001b[1;32mexcept\u001b[0m \u001b[0mKeyError\u001b[0m\u001b[1;33m:\u001b[0m\u001b[1;33m\u001b[0m\u001b[0m\n",
      "\u001b[1;32mpandas/index.pyx\u001b[0m in \u001b[0;36mpandas.index.IndexEngine.get_loc (pandas/index.c:4154)\u001b[1;34m()\u001b[0m\n",
      "\u001b[1;32mpandas/index.pyx\u001b[0m in \u001b[0;36mpandas.index.IndexEngine.get_loc (pandas/index.c:4018)\u001b[1;34m()\u001b[0m\n",
      "\u001b[1;32mpandas/hashtable.pyx\u001b[0m in \u001b[0;36mpandas.hashtable.PyObjectHashTable.get_item (pandas/hashtable.c:12368)\u001b[1;34m()\u001b[0m\n",
      "\u001b[1;32mpandas/hashtable.pyx\u001b[0m in \u001b[0;36mpandas.hashtable.PyObjectHashTable.get_item (pandas/hashtable.c:12322)\u001b[1;34m()\u001b[0m\n",
      "\u001b[1;31mKeyError\u001b[0m: 'DESC_IDIOMA'",
      "\nDuring handling of the above exception, another exception occurred:\n",
      "\u001b[1;31mKeyError\u001b[0m                                  Traceback (most recent call last)",
      "\u001b[1;32m<ipython-input-7-1e9676e73cbb>\u001b[0m in \u001b[0;36m<module>\u001b[1;34m()\u001b[0m\n\u001b[0;32m      1\u001b[0m \u001b[1;31m#USANDO SOMENTE O INGLÊS COMO IDIOMA DE REFERÊNCIA\u001b[0m\u001b[1;33m\u001b[0m\u001b[1;33m\u001b[0m\u001b[0m\n\u001b[0;32m      2\u001b[0m \u001b[1;31m#EXCLUINDO DADOS DUPLICADOS\u001b[0m\u001b[1;33m\u001b[0m\u001b[1;33m\u001b[0m\u001b[0m\n\u001b[1;32m----> 3\u001b[1;33m \u001b[0meca\u001b[0m \u001b[1;33m=\u001b[0m \u001b[0meca\u001b[0m\u001b[1;33m.\u001b[0m\u001b[0mloc\u001b[0m\u001b[1;33m[\u001b[0m\u001b[0meca\u001b[0m\u001b[1;33m[\u001b[0m\u001b[1;34m'DESC_IDIOMA'\u001b[0m\u001b[1;33m]\u001b[0m\u001b[1;33m==\u001b[0m\u001b[1;34m'Inglês'\u001b[0m\u001b[1;33m]\u001b[0m\u001b[1;33m\u001b[0m\u001b[0m\n\u001b[0m",
      "\u001b[1;32m/home/sandeco/anaconda3/lib/python3.5/site-packages/pandas/core/frame.py\u001b[0m in \u001b[0;36m__getitem__\u001b[1;34m(self, key)\u001b[0m\n\u001b[0;32m   1995\u001b[0m             \u001b[1;32mreturn\u001b[0m \u001b[0mself\u001b[0m\u001b[1;33m.\u001b[0m\u001b[0m_getitem_multilevel\u001b[0m\u001b[1;33m(\u001b[0m\u001b[0mkey\u001b[0m\u001b[1;33m)\u001b[0m\u001b[1;33m\u001b[0m\u001b[0m\n\u001b[0;32m   1996\u001b[0m         \u001b[1;32melse\u001b[0m\u001b[1;33m:\u001b[0m\u001b[1;33m\u001b[0m\u001b[0m\n\u001b[1;32m-> 1997\u001b[1;33m             \u001b[1;32mreturn\u001b[0m \u001b[0mself\u001b[0m\u001b[1;33m.\u001b[0m\u001b[0m_getitem_column\u001b[0m\u001b[1;33m(\u001b[0m\u001b[0mkey\u001b[0m\u001b[1;33m)\u001b[0m\u001b[1;33m\u001b[0m\u001b[0m\n\u001b[0m\u001b[0;32m   1998\u001b[0m \u001b[1;33m\u001b[0m\u001b[0m\n\u001b[0;32m   1999\u001b[0m     \u001b[1;32mdef\u001b[0m \u001b[0m_getitem_column\u001b[0m\u001b[1;33m(\u001b[0m\u001b[0mself\u001b[0m\u001b[1;33m,\u001b[0m \u001b[0mkey\u001b[0m\u001b[1;33m)\u001b[0m\u001b[1;33m:\u001b[0m\u001b[1;33m\u001b[0m\u001b[0m\n",
      "\u001b[1;32m/home/sandeco/anaconda3/lib/python3.5/site-packages/pandas/core/frame.py\u001b[0m in \u001b[0;36m_getitem_column\u001b[1;34m(self, key)\u001b[0m\n\u001b[0;32m   2002\u001b[0m         \u001b[1;31m# get column\u001b[0m\u001b[1;33m\u001b[0m\u001b[1;33m\u001b[0m\u001b[0m\n\u001b[0;32m   2003\u001b[0m         \u001b[1;32mif\u001b[0m \u001b[0mself\u001b[0m\u001b[1;33m.\u001b[0m\u001b[0mcolumns\u001b[0m\u001b[1;33m.\u001b[0m\u001b[0mis_unique\u001b[0m\u001b[1;33m:\u001b[0m\u001b[1;33m\u001b[0m\u001b[0m\n\u001b[1;32m-> 2004\u001b[1;33m             \u001b[1;32mreturn\u001b[0m \u001b[0mself\u001b[0m\u001b[1;33m.\u001b[0m\u001b[0m_get_item_cache\u001b[0m\u001b[1;33m(\u001b[0m\u001b[0mkey\u001b[0m\u001b[1;33m)\u001b[0m\u001b[1;33m\u001b[0m\u001b[0m\n\u001b[0m\u001b[0;32m   2005\u001b[0m \u001b[1;33m\u001b[0m\u001b[0m\n\u001b[0;32m   2006\u001b[0m         \u001b[1;31m# duplicate columns & possible reduce dimensionality\u001b[0m\u001b[1;33m\u001b[0m\u001b[1;33m\u001b[0m\u001b[0m\n",
      "\u001b[1;32m/home/sandeco/anaconda3/lib/python3.5/site-packages/pandas/core/generic.py\u001b[0m in \u001b[0;36m_get_item_cache\u001b[1;34m(self, item)\u001b[0m\n\u001b[0;32m   1348\u001b[0m         \u001b[0mres\u001b[0m \u001b[1;33m=\u001b[0m \u001b[0mcache\u001b[0m\u001b[1;33m.\u001b[0m\u001b[0mget\u001b[0m\u001b[1;33m(\u001b[0m\u001b[0mitem\u001b[0m\u001b[1;33m)\u001b[0m\u001b[1;33m\u001b[0m\u001b[0m\n\u001b[0;32m   1349\u001b[0m         \u001b[1;32mif\u001b[0m \u001b[0mres\u001b[0m \u001b[1;32mis\u001b[0m \u001b[1;32mNone\u001b[0m\u001b[1;33m:\u001b[0m\u001b[1;33m\u001b[0m\u001b[0m\n\u001b[1;32m-> 1350\u001b[1;33m             \u001b[0mvalues\u001b[0m \u001b[1;33m=\u001b[0m \u001b[0mself\u001b[0m\u001b[1;33m.\u001b[0m\u001b[0m_data\u001b[0m\u001b[1;33m.\u001b[0m\u001b[0mget\u001b[0m\u001b[1;33m(\u001b[0m\u001b[0mitem\u001b[0m\u001b[1;33m)\u001b[0m\u001b[1;33m\u001b[0m\u001b[0m\n\u001b[0m\u001b[0;32m   1351\u001b[0m             \u001b[0mres\u001b[0m \u001b[1;33m=\u001b[0m \u001b[0mself\u001b[0m\u001b[1;33m.\u001b[0m\u001b[0m_box_item_values\u001b[0m\u001b[1;33m(\u001b[0m\u001b[0mitem\u001b[0m\u001b[1;33m,\u001b[0m \u001b[0mvalues\u001b[0m\u001b[1;33m)\u001b[0m\u001b[1;33m\u001b[0m\u001b[0m\n\u001b[0;32m   1352\u001b[0m             \u001b[0mcache\u001b[0m\u001b[1;33m[\u001b[0m\u001b[0mitem\u001b[0m\u001b[1;33m]\u001b[0m \u001b[1;33m=\u001b[0m \u001b[0mres\u001b[0m\u001b[1;33m\u001b[0m\u001b[0m\n",
      "\u001b[1;32m/home/sandeco/anaconda3/lib/python3.5/site-packages/pandas/core/internals.py\u001b[0m in \u001b[0;36mget\u001b[1;34m(self, item, fastpath)\u001b[0m\n\u001b[0;32m   3288\u001b[0m \u001b[1;33m\u001b[0m\u001b[0m\n\u001b[0;32m   3289\u001b[0m             \u001b[1;32mif\u001b[0m \u001b[1;32mnot\u001b[0m \u001b[0misnull\u001b[0m\u001b[1;33m(\u001b[0m\u001b[0mitem\u001b[0m\u001b[1;33m)\u001b[0m\u001b[1;33m:\u001b[0m\u001b[1;33m\u001b[0m\u001b[0m\n\u001b[1;32m-> 3290\u001b[1;33m                 \u001b[0mloc\u001b[0m \u001b[1;33m=\u001b[0m \u001b[0mself\u001b[0m\u001b[1;33m.\u001b[0m\u001b[0mitems\u001b[0m\u001b[1;33m.\u001b[0m\u001b[0mget_loc\u001b[0m\u001b[1;33m(\u001b[0m\u001b[0mitem\u001b[0m\u001b[1;33m)\u001b[0m\u001b[1;33m\u001b[0m\u001b[0m\n\u001b[0m\u001b[0;32m   3291\u001b[0m             \u001b[1;32melse\u001b[0m\u001b[1;33m:\u001b[0m\u001b[1;33m\u001b[0m\u001b[0m\n\u001b[0;32m   3292\u001b[0m                 \u001b[0mindexer\u001b[0m \u001b[1;33m=\u001b[0m \u001b[0mnp\u001b[0m\u001b[1;33m.\u001b[0m\u001b[0marange\u001b[0m\u001b[1;33m(\u001b[0m\u001b[0mlen\u001b[0m\u001b[1;33m(\u001b[0m\u001b[0mself\u001b[0m\u001b[1;33m.\u001b[0m\u001b[0mitems\u001b[0m\u001b[1;33m)\u001b[0m\u001b[1;33m)\u001b[0m\u001b[1;33m[\u001b[0m\u001b[0misnull\u001b[0m\u001b[1;33m(\u001b[0m\u001b[0mself\u001b[0m\u001b[1;33m.\u001b[0m\u001b[0mitems\u001b[0m\u001b[1;33m)\u001b[0m\u001b[1;33m]\u001b[0m\u001b[1;33m\u001b[0m\u001b[0m\n",
      "\u001b[1;32m/home/sandeco/anaconda3/lib/python3.5/site-packages/pandas/indexes/base.py\u001b[0m in \u001b[0;36mget_loc\u001b[1;34m(self, key, method, tolerance)\u001b[0m\n\u001b[0;32m   1945\u001b[0m                 \u001b[1;32mreturn\u001b[0m \u001b[0mself\u001b[0m\u001b[1;33m.\u001b[0m\u001b[0m_engine\u001b[0m\u001b[1;33m.\u001b[0m\u001b[0mget_loc\u001b[0m\u001b[1;33m(\u001b[0m\u001b[0mkey\u001b[0m\u001b[1;33m)\u001b[0m\u001b[1;33m\u001b[0m\u001b[0m\n\u001b[0;32m   1946\u001b[0m             \u001b[1;32mexcept\u001b[0m \u001b[0mKeyError\u001b[0m\u001b[1;33m:\u001b[0m\u001b[1;33m\u001b[0m\u001b[0m\n\u001b[1;32m-> 1947\u001b[1;33m                 \u001b[1;32mreturn\u001b[0m \u001b[0mself\u001b[0m\u001b[1;33m.\u001b[0m\u001b[0m_engine\u001b[0m\u001b[1;33m.\u001b[0m\u001b[0mget_loc\u001b[0m\u001b[1;33m(\u001b[0m\u001b[0mself\u001b[0m\u001b[1;33m.\u001b[0m\u001b[0m_maybe_cast_indexer\u001b[0m\u001b[1;33m(\u001b[0m\u001b[0mkey\u001b[0m\u001b[1;33m)\u001b[0m\u001b[1;33m)\u001b[0m\u001b[1;33m\u001b[0m\u001b[0m\n\u001b[0m\u001b[0;32m   1948\u001b[0m \u001b[1;33m\u001b[0m\u001b[0m\n\u001b[0;32m   1949\u001b[0m         \u001b[0mindexer\u001b[0m \u001b[1;33m=\u001b[0m \u001b[0mself\u001b[0m\u001b[1;33m.\u001b[0m\u001b[0mget_indexer\u001b[0m\u001b[1;33m(\u001b[0m\u001b[1;33m[\u001b[0m\u001b[0mkey\u001b[0m\u001b[1;33m]\u001b[0m\u001b[1;33m,\u001b[0m \u001b[0mmethod\u001b[0m\u001b[1;33m=\u001b[0m\u001b[0mmethod\u001b[0m\u001b[1;33m,\u001b[0m \u001b[0mtolerance\u001b[0m\u001b[1;33m=\u001b[0m\u001b[0mtolerance\u001b[0m\u001b[1;33m)\u001b[0m\u001b[1;33m\u001b[0m\u001b[0m\n",
      "\u001b[1;32mpandas/index.pyx\u001b[0m in \u001b[0;36mpandas.index.IndexEngine.get_loc (pandas/index.c:4154)\u001b[1;34m()\u001b[0m\n",
      "\u001b[1;32mpandas/index.pyx\u001b[0m in \u001b[0;36mpandas.index.IndexEngine.get_loc (pandas/index.c:4018)\u001b[1;34m()\u001b[0m\n",
      "\u001b[1;32mpandas/hashtable.pyx\u001b[0m in \u001b[0;36mpandas.hashtable.PyObjectHashTable.get_item (pandas/hashtable.c:12368)\u001b[1;34m()\u001b[0m\n",
      "\u001b[1;32mpandas/hashtable.pyx\u001b[0m in \u001b[0;36mpandas.hashtable.PyObjectHashTable.get_item (pandas/hashtable.c:12322)\u001b[1;34m()\u001b[0m\n",
      "\u001b[1;31mKeyError\u001b[0m: 'DESC_IDIOMA'"
     ]
    }
   ],
   "source": [
    "#USANDO SOMENTE O INGLÊS COMO IDIOMA DE REFERÊNCIA\n",
    "#EXCLUINDO DADOS DUPLICADOS\n",
    "eca = eca.loc[eca['DESC_IDIOMA']=='Inglês']"
   ]
  },
  {
   "cell_type": "code",
   "execution_count": null,
   "metadata": {
    "collapsed": false
   },
   "outputs": [],
   "source": [
    "#RENOMEANDO CAMPOS DAS 4 HABILIDADES EM INGLÊS\n",
    "eca = eca.rename(columns = {'NIVEL_FALA':'INGLES_FALA'})\n",
    "eca = eca.rename(columns = {'NIVEL_COMPREENSAO':'INGLES_COMPREENSAO'})\n",
    "eca = eca.rename(columns = {'NIVEL_ESCRITA':'INGLES_ESCRITA'})\n",
    "eca = eca.rename(columns = {'NIVEL_LEITURA':'INGLES_LEITURA'})\n",
    "\n",
    "#EXCLUINDO O ATRIBUTO DESC_IDIOMA\n",
    "eca.drop('DESC_IDIOMA',axis=1, inplace=True)\n",
    "\n",
    "\n",
    "eca"
   ]
  },
  {
   "cell_type": "code",
   "execution_count": null,
   "metadata": {
    "collapsed": true
   },
   "outputs": [],
   "source": []
  },
  {
   "cell_type": "code",
   "execution_count": null,
   "metadata": {
    "collapsed": false
   },
   "outputs": [],
   "source": [
    "#IMPUTANDO ZERO OS MISSING VALUES EM N_FALTAS, NOTA E N_FILHOS.\n",
    "eca.loc[eca['N_FALTAS'].isnull(),'N_FALTAS'] = 0.0\n",
    "eca.loc[eca['NOTA'].isnull(),'NOTA'] = 0.0\n",
    "eca.loc[eca['N_FILHOS'].isnull(),'N_FILHOS'] = 0.0\n",
    "\n",
    "eca"
   ]
  },
  {
   "cell_type": "code",
   "execution_count": null,
   "metadata": {
    "collapsed": true
   },
   "outputs": [],
   "source": [
    "#IMPUTANDO O VALOR DE 'S' (SOLTEIRO) AOS MISSING VALUES EM COD_ESTADO_CIVIL\n",
    "eca.loc[eca['COD_ESTADO_CIVIL'].isnull(),'COD_ESTADO_CIVIL']='S'"
   ]
  },
  {
   "cell_type": "code",
   "execution_count": null,
   "metadata": {
    "collapsed": false
   },
   "outputs": [],
   "source": [
    "#ATRIBUINDO A MÉDIA ARRENDONDADA AOS MISSING VALUES NA RENDA FAMILIAR\n",
    "media_ajustada = round(eca['RENDA_FAMILIAR'].mean())\n",
    "eca.loc[eca['RENDA_FAMILIAR'].isnull(),'RENDA_FAMILIAR']=media_ajustada\n",
    "\n",
    "eca"
   ]
  },
  {
   "cell_type": "code",
   "execution_count": null,
   "metadata": {
    "collapsed": false
   },
   "outputs": [],
   "source": [
    "#ATRIBUINDO A MÉDIA ARRENDONDADA AOS MISSING VALUES NA RENDA_PER_CAPITA\n",
    "media_ajustada = round(eca['RENDA_PER_CAPITA'].mean())\n",
    "eca.loc[eca['RENDA_PER_CAPITA'].isnull(),'RENDA_PER_CAPITA']=media_ajustada\n",
    "\n",
    "eca"
   ]
  },
  {
   "cell_type": "code",
   "execution_count": null,
   "metadata": {
    "collapsed": true
   },
   "outputs": [],
   "source": [
    "#CALCULANDO A IDADE DE INGRESSO DO ALUNO COM BASE NA DATA DE NASCIMENTO E ANO_INGRESSSO \n",
    "eca['IDADE_INGRESSO'] = eca['ANO_INGRESSSO'].astype('float64')- eca['DT_NASCIMENTO'].str[:4].astype('float64')\n",
    "\n",
    "\n",
    "#IDADE MÉDIA DE INGRESSO NO CURSO DE AUTOMAÇÃO"
   ]
  },
  {
   "cell_type": "code",
   "execution_count": null,
   "metadata": {
    "collapsed": true
   },
   "outputs": [],
   "source": [
    "#RETIRANDO AS NOTAS QUE CONTÉM UMA DATA (OUTLEIRS)\n",
    "#SELECIONANDO TODOS OS CAMPOS QUE CONTÉM '/' E ATRIBUINDO A NEGAÇÃO (~) AO DATASET\n",
    "eca = eca[~eca['NOTA'].str.contains(\"/\",na=False)]"
   ]
  },
  {
   "cell_type": "code",
   "execution_count": null,
   "metadata": {
    "collapsed": false
   },
   "outputs": [],
   "source": [
    "#AJUSTANDO TIPOS DA NOTA. CONVERTENDO DE OBJECT PARA FLOAT\n",
    "#pd.to_numeric(eca['NOTA'])\n",
    "\n",
    "\n",
    "\n",
    "#eca['NOTA'] = eca['NOTA'].astype('float64')\n",
    "eca['NOTA'] = pd.to_numeric(eca['NOTA'])\n",
    "\n",
    "\n",
    "#CRAINDO CAMPO SITUAÇÃO E ATRIBUINDO O VALOR ZERO PARA TODOS\n",
    "#SITUAÇÃO CONTERÁ AS CLASSES DO DOS OBJETOS DO DATASET\n",
    "\n",
    "eca['APROVADO'] = 0.0\n",
    "\n",
    "\n",
    "eca.dtypes\n",
    "\n",
    "#SettingWithCopyWarning: É SOMENTE UM WARNING"
   ]
  },
  {
   "cell_type": "code",
   "execution_count": null,
   "metadata": {
    "collapsed": false
   },
   "outputs": [],
   "source": [
    "#ATRIBUINDO APROVADO (1) AO CAMPO SITUAÇÃO COM BASE NA NOTA\n",
    "\n",
    "eca.loc[eca['NOTA'] >= 6.0, 'APROVADO'] = 1.0"
   ]
  },
  {
   "cell_type": "code",
   "execution_count": null,
   "metadata": {
    "collapsed": false
   },
   "outputs": [],
   "source": [
    "##SALVANDO NOVO CSV - PRÉVIA COM TÉCNICAS DE DATA PREPROCESSING\n",
    "\n",
    "\n",
    "\n",
    "eca.to_csv('eca_clean.csv', index=False)\n",
    "eca = pd.read_csv('eca_clean.csv', na_values=['NULL'])\n",
    "eca.drop(eca.columns[[8, 13, 14, 17]],axis=1, inplace=True)\n",
    "\n",
    "eca.dtypes"
   ]
  },
  {
   "cell_type": "code",
   "execution_count": null,
   "metadata": {
    "collapsed": true
   },
   "outputs": [],
   "source": [
    "#VERIFICANDO ASSOCIAÇÃO DO ANO_INGRESSO COM O ANO_CONCLUSAO_2_GRAU\n",
    "grau2 = eca[['IDADE_INGRESSO','ANO_CONCLUSAO_2_GRAU','APROVADO']]\n",
    "\n",
    "#grau2 = grau2.loc[eca['APROVADO']==0]"
   ]
  },
  {
   "cell_type": "code",
   "execution_count": null,
   "metadata": {
    "collapsed": false
   },
   "outputs": [],
   "source": [
    "sb.pairplot(grau2.dropna(), hue='APROVADO')\n",
    "\n",
    "#OBSERVAMOS QUE QUANTO MAIOR FOR A IDADE_INGRESSO, MENOR É O ANO_CONCLUSAO_2_GRAU\n",
    "\n",
    "#AZUL = REPROVADO\n",
    "#VERDE = APROVADO\n",
    "\n",
    "#OBSERVAMOS UM \"OUTLIER\" COM IDADE DE SUPERIOR A 40 ANOS COM O ANO_CONCLUSAO_2_GRAU\n",
    "#MUITO PRÓXIMO A SÉRIE HISTÓRICA."
   ]
  },
  {
   "cell_type": "code",
   "execution_count": null,
   "metadata": {
    "collapsed": false
   },
   "outputs": [],
   "source": [
    "#EXCLUINDO OUTLIER DA SÉRIE HISTÓRICA E REGERANDO PLOT\n",
    "\n",
    "grau2_clean = grau2.loc[eca['IDADE_INGRESSO']<40]\n",
    "#sb.pairplot(grau2_clean.dropna(), hue='APROVADO')\n",
    "\n",
    "sb.lmplot(x=\"IDADE_INGRESSO\", \n",
    "          y=\"ANO_CONCLUSAO_2_GRAU\", \n",
    "          col=\"APROVADO\", \n",
    "          hue=\"APROVADO\", \n",
    "          data=grau2_clean, \n",
    "          col_wrap=2, ci=None, \n",
    "          palette=\"muted\", \n",
    "          size=4, scatter_kws={\"s\": 50, \"alpha\": 1})\n",
    "\n",
    "\n",
    "\n",
    "#OBSERVOU-SE QUE É POSSÍVEL APLICAR REGRESSÃO LINEAR PARA IMPUTAR O ANO_CONCLUSAO_2_GRAU\n",
    "#AOS ALUNOS QUE NÃO INFORMARAM TAL INFORMAÇÃO"
   ]
  },
  {
   "cell_type": "code",
   "execution_count": null,
   "metadata": {
    "collapsed": true
   },
   "outputs": [],
   "source": [
    "#Para realizar a Regressão Linear utilizou-se as bibliotecas SCIKIT-LEARN (Machine Learning)\n",
    "#e NUMPY para manipulação de arrays e matrizes multidimensionais, possuindo uma \n",
    "#larga coleção de funções matemáticas para trabalhar com estas estruturas.)\n",
    "\n",
    "#IMPORTANDO numpy\n",
    "import numpy as np\n",
    "\n",
    "\n",
    "#IMPORTANDO O MÓDULO linear_model DA BIBLIOTECA scikit-learn \n",
    "from sklearn import linear_model\n",
    "\n",
    "\n",
    "#obs:É NECESSÁRIO CONVERSÃO DE PANDAS PARA NUMPY \n",
    "#PORQUE O SCIKIT-LEARN NÃO TRABALHA BEM COM O PANDAS\n",
    "\n",
    "\n",
    "#CONVENÇÕES DAS VARIÁVEIS CRIADAS\n",
    "#TERMINAÇÕES PD=PANDAS, NP=NUMPY\n",
    "\n",
    "\n",
    "\n",
    "#CRANDO BASE DE TREINO SEM ANO_CONCLUSAO_2_GRAU NULOS \n",
    "#(UTILIZANDO O OPERADOR DE NEGAÇÃO ~)\n",
    "#PANDAS pd\n",
    "treino_pd = grau2_clean.loc[~grau2['ANO_CONCLUSAO_2_GRAU'].isnull()] \n",
    "\n",
    "\n",
    "#CRANDO BASE DE REGRESSÃO COM ANO_CONCLUSAO_2_GRAU NULOS (PANDAS pd)\n",
    "prdict_pd = grau2_clean.loc[grau2['ANO_CONCLUSAO_2_GRAU'].isnull()]\n",
    "\n",
    "\n",
    "#CRIANDO NUMPY-ARRAYS. O scikit-learn NÃO FUNCIONA BEM COM O PANDAS\n",
    "treino_np = treino_pd.as_matrix(columns={'IDADE_INGRESSO','ANO_CONCLUSAO_2_GRAU'})\n",
    "prdict_np = prdict_pd.as_matrix(columns={'IDADE_INGRESSO','ANO_CONCLUSAO_2_GRAU'})"
   ]
  },
  {
   "cell_type": "code",
   "execution_count": null,
   "metadata": {
    "collapsed": true
   },
   "outputs": [],
   "source": [
    "#INFORMAÇÕES SOBRE REGRESSÃO LINEAR EM:\n",
    "#https://en.wikipedia.org/wiki/Regression_analysis\n",
    "\n",
    "#CRIANDO UM OBJETO DE REGRESSÃO LINEAR DO SCIKIT-LEARN\n",
    "regr = linear_model.LinearRegression()"
   ]
  },
  {
   "cell_type": "code",
   "execution_count": null,
   "metadata": {
    "collapsed": false
   },
   "outputs": [],
   "source": [
    "#SEPARANDO O X E O Y PARA A REGRESSÃO DO CONJUNTO DE TREINO\n",
    "idade_ingresso_treino = treino_np[:, np.newaxis, 0]\n",
    "ano_concussao_treino = treino_np[:, np.newaxis, 1]\n",
    "\n",
    "\n",
    "\n",
    "#TREINANDO COM O CONJUNTO DE TREINO X E Y PARA REGRESSÃO\n",
    "regr.fit(idade_ingresso_treino, ano_concussao_treino)"
   ]
  },
  {
   "cell_type": "code",
   "execution_count": null,
   "metadata": {
    "collapsed": true
   },
   "outputs": [],
   "source": [
    "#IDADES_INGRESSO QUE NÃO TEM ANO_CONCLUSAO_2_GRAU PARA A REGRESSAO\n",
    "#SELECIONANDO A IDADE_INGRESSO DE TESTE PARA REALIZAR PREDIÇÃO DO ANO_CONCLUSAO_2_GRAU\n",
    "\n",
    "idade_ingresso_predict = prdict_np[:, np.newaxis, 0]"
   ]
  },
  {
   "cell_type": "code",
   "execution_count": null,
   "metadata": {
    "collapsed": false
   },
   "outputs": [],
   "source": [
    "#REALIZANDO A REGRESSÃO\n",
    "\n",
    "ano_predict = regr.predict(idade_ingresso_predict)\n",
    "\n",
    "ano_predict"
   ]
  },
  {
   "cell_type": "code",
   "execution_count": null,
   "metadata": {
    "collapsed": false
   },
   "outputs": [],
   "source": [
    "#JUNTANDO A REGRESSÃO DO ANO_CONCLUSAO_2_GRAU COM A IDADE_INGRESSO\n",
    "\n",
    "prdict_np[:, np.newaxis, 1] = ano_predict\n",
    "\n",
    "prdict_np"
   ]
  },
  {
   "cell_type": "code",
   "execution_count": null,
   "metadata": {
    "collapsed": true
   },
   "outputs": [],
   "source": [
    "eca.loc[eca['ANO_CONCLUSAO_2_GRAU'].isnull()\n",
    "        ,'ANO_CONCLUSAO_2_GRAU'] = prdict_np[:, np.newaxis, 1]"
   ]
  },
  {
   "cell_type": "code",
   "execution_count": null,
   "metadata": {
    "collapsed": false
   },
   "outputs": [],
   "source": [
    "##SALVANDO NOVO CSV - PRÉVIA COM TÉCNICAS DE DATA PREPROCESSING\n",
    "\n",
    "eca.to_csv('eca_clean.csv', index=False)\n",
    "eca = pd.read_csv('eca_clean.csv', na_values=['NULL'])\n",
    "\n",
    "\n",
    "#HISTOGRAMA DOS VALORES DO ANO_CONCLUSAO_2_GRAU\n",
    "eca['ANO_CONCLUSAO_2_GRAU'].hist()"
   ]
  },
  {
   "cell_type": "code",
   "execution_count": null,
   "metadata": {
    "collapsed": true
   },
   "outputs": [],
   "source": [
    "#REALIZAR AS MEDIDAS DE ACURÁCIA DA REGRESSÃO LINEAR AQUI\n",
    "# http://scikit-learn.org/stable/auto_examples/linear_model/plot_ols.html\n",
    "#AVALIAR SE A REGRESSÃO FOI BOA"
   ]
  },
  {
   "cell_type": "code",
   "execution_count": null,
   "metadata": {
    "collapsed": false
   },
   "outputs": [],
   "source": [
    "#VERIFICANDO QUAIS OS VALORES EXISTENTES EM TIPO_ESCOLA_ORIGEM\n",
    "eca['TIPO_ESCOLA_ORIGEM'].unique()"
   ]
  },
  {
   "cell_type": "code",
   "execution_count": null,
   "metadata": {
    "collapsed": false
   },
   "outputs": [],
   "source": [
    "#EXISTEM 232 OCORRÊNCIAS NULAS PARA TIPO_ORIGEM_ESCOLA\n",
    "eca.loc[eca['TIPO_ESCOLA_ORIGEM'].isnull(),'IDADE_INGRESSO'].count()"
   ]
  },
  {
   "cell_type": "code",
   "execution_count": null,
   "metadata": {
    "collapsed": false
   },
   "outputs": [],
   "source": [
    "#EXCLUINDO AS TUPLAS NULLAS\n",
    "eca = eca.loc[~eca['TIPO_ESCOLA_ORIGEM'].isnull()]\n",
    "\n",
    "#CONFIRMANDO EXCLUSÃO\n",
    "eca.loc[eca['TIPO_ESCOLA_ORIGEM'].isnull(), 'NOTA'].count()"
   ]
  },
  {
   "cell_type": "code",
   "execution_count": null,
   "metadata": {
    "collapsed": true
   },
   "outputs": [],
   "source": [
    "#AJUSTANDO ERRO DE DIGITAÇÃO NO TIPO_ESCOLA_ORIGEM. DE ZERO PARA A LETRA 'O'\n",
    "eca.loc[eca['TIPO_ESCOLA_ORIGEM']=='0','TIPO_ESCOLA_ORIGEM'] = 'O'"
   ]
  },
  {
   "cell_type": "code",
   "execution_count": null,
   "metadata": {
    "collapsed": false
   },
   "outputs": [],
   "source": [
    "#CONFIRMANDO O AJUSTE ANTERIOR\n",
    "eca['TIPO_ESCOLA_ORIGEM'].unique()"
   ]
  },
  {
   "cell_type": "code",
   "execution_count": null,
   "metadata": {
    "collapsed": false
   },
   "outputs": [],
   "source": [
    "#DISCRETIZAÇÃO DO TIPO_ESCOLA_ORIGEM\n",
    "eca.loc[eca['TIPO_ESCOLA_ORIGEM']=='O','TIPO_ESCOLA_ORIGEM'] = '0'\n",
    "eca.loc[eca['TIPO_ESCOLA_ORIGEM']=='P','TIPO_ESCOLA_ORIGEM'] = '1'\n",
    "eca.loc[eca['TIPO_ESCOLA_ORIGEM']=='E','TIPO_ESCOLA_ORIGEM'] = '2'\n",
    "eca.loc[eca['TIPO_ESCOLA_ORIGEM']=='F','TIPO_ESCOLA_ORIGEM'] = '3'\n",
    "eca.loc[eca['TIPO_ESCOLA_ORIGEM']=='I','TIPO_ESCOLA_ORIGEM'] = '4'\n",
    "\n",
    "eca['TIPO_ESCOLA_ORIGEM'] = eca['TIPO_ESCOLA_ORIGEM'].astype('float64')\n",
    "\n",
    "eca['TIPO_ESCOLA_ORIGEM'].hist()"
   ]
  }
 ],
 "metadata": {
  "anaconda-cloud": {},
  "kernelspec": {
   "display_name": "Python [Root]",
   "language": "python",
   "name": "Python [Root]"
  },
  "language_info": {
   "codemirror_mode": {
    "name": "ipython",
    "version": 3
   },
   "file_extension": ".py",
   "mimetype": "text/x-python",
   "name": "python",
   "nbconvert_exporter": "python",
   "pygments_lexer": "ipython3",
   "version": "3.5.1"
  }
 },
 "nbformat": 4,
 "nbformat_minor": 0
}
