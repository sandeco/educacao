{
 "cells": [
  {
   "cell_type": "code",
   "execution_count": 2,
   "metadata": {
    "collapsed": false
   },
   "outputs": [
    {
     "data": {
      "text/plain": [
       "array(['7.80', '6.90', '7.60', '9.00', '7.00', '9.70', '9.30', '8.80',\n",
       "       '6.00', '8.00', '9.20', '8.90', '8.60', '8.30', '9.60', '7.70',\n",
       "       '10.00', '9.90', '09/10/2016', '7.50', '8.70'], dtype=object)"
      ]
     },
     "execution_count": 2,
     "metadata": {},
     "output_type": "execute_result"
    }
   ],
   "source": [
    "import numpy as np\n",
    "import pandas as pd\n",
    "from scipy import stats, integrate\n",
    "from scipy.stats import norm\n",
    "from operator import itemgetter\n",
    "import matplotlib.pyplot as plt\n",
    "\n",
    "%matplotlib inline\n",
    "\n",
    "si = pd.read_csv('si-original.csv')\n",
    "\n",
    "## dada as notas de um determinado aluno\n",
    "## vamos criar uma distribuição normal baseado em suas notas\n",
    "\n",
    "# aluno de exemplo = Rogério\n",
    "aluno = si.loc[si['MATRICULA']==X]\n",
    "notas = aluno['NOTAS']\n",
    "\n",
    "notas.unique()"
   ]
  },
  {
   "cell_type": "code",
   "execution_count": 3,
   "metadata": {
    "collapsed": false
   },
   "outputs": [
    {
     "data": {
      "text/plain": [
       "array(['7.80', '6.90', '7.60', '9.00', '7.00', '9.70', '9.30', '8.80',\n",
       "       '6.00', '8.00', '9.20', '8.90', '8.60', '8.30', '9.60', '7.70',\n",
       "       '10.00', '9.90', '7.50', '8.70'], dtype=object)"
      ]
     },
     "execution_count": 3,
     "metadata": {},
     "output_type": "execute_result"
    }
   ],
   "source": [
    "# retirando a data\n",
    "notas = notas[~notas.str.contains(\"/\",na=False)]\n",
    "notas.unique()"
   ]
  },
  {
   "cell_type": "code",
   "execution_count": 4,
   "metadata": {
    "collapsed": false
   },
   "outputs": [
    {
     "data": {
      "text/html": [
       "<div>\n",
       "<table border=\"1\" class=\"dataframe\">\n",
       "  <thead>\n",
       "    <tr style=\"text-align: right;\">\n",
       "      <th></th>\n",
       "      <th>NOTAS</th>\n",
       "    </tr>\n",
       "  </thead>\n",
       "  <tbody>\n",
       "    <tr>\n",
       "      <th>count</th>\n",
       "      <td>32.000000</td>\n",
       "    </tr>\n",
       "    <tr>\n",
       "      <th>mean</th>\n",
       "      <td>8.634375</td>\n",
       "    </tr>\n",
       "    <tr>\n",
       "      <th>std</th>\n",
       "      <td>1.051760</td>\n",
       "    </tr>\n",
       "    <tr>\n",
       "      <th>min</th>\n",
       "      <td>6.000000</td>\n",
       "    </tr>\n",
       "    <tr>\n",
       "      <th>25%</th>\n",
       "      <td>7.950000</td>\n",
       "    </tr>\n",
       "    <tr>\n",
       "      <th>50%</th>\n",
       "      <td>8.850000</td>\n",
       "    </tr>\n",
       "    <tr>\n",
       "      <th>75%</th>\n",
       "      <td>9.375000</td>\n",
       "    </tr>\n",
       "    <tr>\n",
       "      <th>max</th>\n",
       "      <td>10.000000</td>\n",
       "    </tr>\n",
       "  </tbody>\n",
       "</table>\n",
       "</div>"
      ],
      "text/plain": [
       "           NOTAS\n",
       "count  32.000000\n",
       "mean    8.634375\n",
       "std     1.051760\n",
       "min     6.000000\n",
       "25%     7.950000\n",
       "50%     8.850000\n",
       "75%     9.375000\n",
       "max    10.000000"
      ]
     },
     "execution_count": 4,
     "metadata": {},
     "output_type": "execute_result"
    }
   ],
   "source": [
    "notas = pd.to_numeric(notas)\n",
    "\n",
    "n = pd.DataFrame(notas)\n",
    "\n",
    "n.describe()"
   ]
  },
  {
   "cell_type": "code",
   "execution_count": 5,
   "metadata": {
    "collapsed": false
   },
   "outputs": [
    {
     "data": {
      "image/png": "[encoded data removed]",
      "text/plain": [
       "<matplotlib.figure.Figure at 0xa595320>"
      ]
     },
     "metadata": {},
     "output_type": "display_data"
    }
   ],
   "source": [
    "#Definindo o range das notas. Neste caso as notas só podem ir de zero a 10\n",
    "x = np.linspace(0.0, 10.0)\n",
    "\n",
    "## loc=média and scale=desvio padrão\n",
    "y = norm.pdf(x, loc=n.mean(), scale=n.std()) \n",
    "\n",
    "plt.plot(x,y)\n",
    "plt.show()"
   ]
  },
  {
   "cell_type": "code",
   "execution_count": 6,
   "metadata": {
    "collapsed": false
   },
   "outputs": [
    {
     "name": "stdout",
     "output_type": "stream",
     "text": [
      "A probabilidade do aluno tirar nota 0.0 é: 8.79697701147e-14%\n",
      "A probabilidade do aluno tirar nota 0.5 é: 3.8921380964e-12%\n",
      "A probabilidade do aluno tirar nota 1.0 é: 1.37370319199e-10%\n",
      "A probabilidade do aluno tirar nota 1.5 é: 3.86765258408e-09%\n",
      "A probabilidade do aluno tirar nota 2.0 é: 8.68664128044e-08%\n",
      "A probabilidade do aluno tirar nota 2.5 é: 1.55634616955e-06%\n",
      "A probabilidade do aluno tirar nota 3.0 é: 2.22438725093e-05%\n",
      "A probabilidade do aluno tirar nota 3.5 é: 0.000253608891505%\n",
      "A probabilidade do aluno tirar nota 4.0 é: 0.00230657954737%\n",
      "A probabilidade do aluno tirar nota 4.5 é: 0.0167348675794%\n",
      "A probabilidade do aluno tirar nota 5.0 é: 0.0968558832813%\n",
      "A probabilidade do aluno tirar nota 5.5 é: 0.447177160913%\n",
      "A probabilidade do aluno tirar nota 6.0 é: 1.64696020299%\n",
      "A probabilidade do aluno tirar nota 6.5 é: 4.83878669913%\n",
      "A probabilidade do aluno tirar nota 7.0 é: 11.3406966507%\n",
      "A probabilidade do aluno tirar nota 7.5 é: 21.2027831563%\n",
      "A probabilidade do aluno tirar nota 8.0 é: 31.6224774992%\n",
      "A probabilidade do aluno tirar nota 8.5 é: 37.6225991245%\n",
      "A probabilidade do aluno tirar nota 9.0 é: 35.7068533946%\n",
      "A probabilidade do aluno tirar nota 9.5 é: 27.0336226988%\n",
      "A probabilidade do aluno tirar nota 10.0 é: 16.327015248%\n"
     ]
    }
   ],
   "source": [
    "## pdf pode-se passar várias notas como um array ex.: [10,9,8] \n",
    "## A função retorna um array com as probabilidades de cada nota\n",
    "#p = stats.norm(n.mean(), n.std()).pdf(x)\n",
    "#p\n",
    "\n",
    "probabilidades = [] # armazenar a nota e sua probabilidade\n",
    "aux = 0.0\n",
    "for i in range(21):\n",
    "    p = stats.norm(n.mean(), n.std()).pdf(aux)\n",
    "    p = p[0]\n",
    "    print(\"A probabilidade do aluno tirar nota \" + str(aux) + \" é: \" + str(p*100) + \"%\")\n",
    "    probabilidades += [(aux, p*100)]\n",
    "    aux += 0.5\n"
   ]
  },
  {
   "cell_type": "code",
   "execution_count": 7,
   "metadata": {
    "collapsed": false
   },
   "outputs": [
    {
     "name": "stdout",
     "output_type": "stream",
     "text": [
      "As notas mais provaveis de serem tiradas pelo aluno:\n",
      "Nota: 8.5, probabilidade: 37.6225991245%\n",
      "Nota: 9.0, probabilidade: 35.7068533946%\n",
      "Nota: 8.0, probabilidade: 31.6224774992%\n",
      "Nota: 9.5, probabilidade: 27.0336226988%\n",
      "Nota: 7.5, probabilidade: 21.2027831563%\n",
      "Nota: 10.0, probabilidade: 16.327015248%\n",
      "Nota: 7.0, probabilidade: 11.3406966507%\n",
      "Nota: 6.5, probabilidade: 4.83878669913%\n",
      "Nota: 6.0, probabilidade: 1.64696020299%\n",
      "Nota: 5.5, probabilidade: 0.447177160913%\n",
      "Nota: 5.0, probabilidade: 0.0968558832813%\n",
      "Nota: 4.5, probabilidade: 0.0167348675794%\n",
      "Nota: 4.0, probabilidade: 0.00230657954737%\n",
      "Nota: 3.5, probabilidade: 0.000253608891505%\n",
      "Nota: 3.0, probabilidade: 2.22438725093e-05%\n",
      "Nota: 2.5, probabilidade: 1.55634616955e-06%\n",
      "Nota: 2.0, probabilidade: 8.68664128044e-08%\n",
      "Nota: 1.5, probabilidade: 3.86765258408e-09%\n",
      "Nota: 1.0, probabilidade: 1.37370319199e-10%\n",
      "Nota: 0.5, probabilidade: 3.8921380964e-12%\n",
      "Nota: 0.0, probabilidade: 8.79697701147e-14%\n"
     ]
    }
   ],
   "source": [
    "# ordenar array pela maior probabilidade\n",
    "probabilidades = sorted(probabilidades,key=itemgetter(1), reverse=True)\n",
    "\n",
    "print(\"As notas mais provaveis de serem tiradas pelo aluno:\")\n",
    "for individual in probabilidades:\n",
    "    print(\"Nota: \" + str(individual[0]) + \", probabilidade: \" + str(individual[1]) + \"%\")"
   ]
  },
  {
   "cell_type": "code",
   "execution_count": 8,
   "metadata": {
    "collapsed": false
   },
   "outputs": [
    {
     "data": {
      "text/plain": [
       "3        7.8\n",
       "90       6.9\n",
       "171      7.6\n",
       "192      9.0\n",
       "239      7.0\n",
       "281      9.7\n",
       "295      9.3\n",
       "410      8.8\n",
       "493      9.7\n",
       "569      6.0\n",
       "638      8.0\n",
       "707      9.2\n",
       "731      8.9\n",
       "744      8.0\n",
       "786      8.6\n",
       "825      9.3\n",
       "860      8.3\n",
       "917      8.0\n",
       "955      7.0\n",
       "1014     9.6\n",
       "1050     7.7\n",
       "1079     9.2\n",
       "1111     9.0\n",
       "1145    10.0\n",
       "1178     9.2\n",
       "1209    10.0\n",
       "1224     9.7\n",
       "1239    10.0\n",
       "1255     9.9\n",
       "1280     7.5\n",
       "1296     8.7\n",
       "1310     8.7\n",
       "Name: NOTAS, dtype: float64"
      ]
     },
     "execution_count": 8,
     "metadata": {},
     "output_type": "execute_result"
    }
   ],
   "source": [
    "notas"
   ]
  },
  {
   "cell_type": "code",
   "execution_count": 29,
   "metadata": {
    "collapsed": false
   },
   "outputs": [
    {
     "name": "stdout",
     "output_type": "stream",
     "text": [
      "A probabilidade de a nota estar entre 6 e 10 é: [ 89.68009736]%\n"
     ]
    }
   ],
   "source": [
    "# primeiro ponto do gráfico\n",
    "valor1 = 6\n",
    "# segundo ponto do gráfico\n",
    "valor2 = 10\n",
    "\n",
    "# calcular distribuição cumulativa\n",
    "valor_area = norm.cdf(valor2, n.mean(), n.std()) - norm.cdf(valor1, n.mean(), n.std())\n",
    "\n",
    "print(\"A probabilidade de a nota estar entre \" + str(valor1) + \" e \" + str(valor2) + \" é: \" + str(valor_area * 100) + \"%\")"
   ]
  },
  {
   "cell_type": "code",
   "execution_count": 32,
   "metadata": {
    "collapsed": false
   },
   "outputs": [
    {
     "data": {
      "text/plain": [
       "NOTAS    8.634375\n",
       "dtype: float64"
      ]
     },
     "execution_count": 32,
     "metadata": {},
     "output_type": "execute_result"
    }
   ],
   "source": [
    "n.mean()"
   ]
  },
  {
   "cell_type": "code",
   "execution_count": 30,
   "metadata": {
    "collapsed": false
   },
   "outputs": [
    {
     "data": {
      "text/plain": [
       "NOTAS    1.05176\n",
       "dtype: float64"
      ]
     },
     "execution_count": 30,
     "metadata": {},
     "output_type": "execute_result"
    }
   ],
   "source": [
    "n.std()"
   ]
  },
  {
   "cell_type": "code",
   "execution_count": null,
   "metadata": {
    "collapsed": true
   },
   "outputs": [],
   "source": []
  }
 ],
 "metadata": {
  "kernelspec": {
   "display_name": "Python 2",
   "language": "python",
   "name": "python2"
  },
  "language_info": {
   "codemirror_mode": {
    "name": "ipython",
    "version": 2
   },
   "file_extension": ".py",
   "mimetype": "text/x-python",
   "name": "python",
   "nbconvert_exporter": "python",
   "pygments_lexer": "ipython2",
   "version": "2.7.11"
  }
 },
 "nbformat": 4,
 "nbformat_minor": 0
}
