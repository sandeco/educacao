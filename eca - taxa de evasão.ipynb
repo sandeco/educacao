{
 "cells": [
  {
   "cell_type": "markdown",
   "metadata": {},
   "source": [
    "Objetivo: Descobrir qual a taxa de evasão de cada curso (ECA, SI) por ano de matricula.\n",
    "\n",
    "Etapas:\n",
    "- importar os dados\n",
    "- descobrir o ano de ingresso atráves da matricula\n",
    "- tratar a situação da matricula para evasão ou não evasão\n",
    "- utilizar função para garantir que exista apenas um registro (tupla) de cada aluno\n",
    "- com a situação da matricula e o ano de ingresso, realizar operação para identificar a taxa de evasão"
   ]
  },
  {
   "cell_type": "code",
   "execution_count": 73,
   "metadata": {
    "collapsed": false
   },
   "outputs": [],
   "source": [
    "import pandas as pd\n",
    "\n",
    "%matplotlib inline\n",
    "\n",
    "\n",
    "#dados = pd.read_csv('si-original.csv', na_values=['NULL'], dtype={\"MATRICULA\" : \"object\"})\n",
    "dados = pd.read_csv('eca-original.csv', na_values=['NULL'], dtype={\"MATRICULA\" : \"object\"})\n",
    "\n",
    "#dados.dtypes"
   ]
  },
  {
   "cell_type": "code",
   "execution_count": 74,
   "metadata": {
    "collapsed": false
   },
   "outputs": [
    {
     "data": {
      "text/plain": [
       "(20770, 27)"
      ]
     },
     "execution_count": 74,
     "metadata": {},
     "output_type": "execute_result"
    }
   ],
   "source": [
    "dados.shape"
   ]
  },
  {
   "cell_type": "code",
   "execution_count": 75,
   "metadata": {
    "collapsed": false
   },
   "outputs": [],
   "source": [
    "#CRIANDO CAMPO DE ANO DE INGRESSO PARA CÁLCULO DA IDADE DE INGRESSO\n",
    "dados['ANO_INGRESSO'] = dados['MATRICULA'].str[:4]"
   ]
  },
  {
   "cell_type": "code",
   "execution_count": 76,
   "metadata": {
    "collapsed": false
   },
   "outputs": [
    {
     "data": {
      "text/plain": [
       "array([ 0,  9, 10, 11,  2,  4, 20, 14, 18, 13], dtype=int64)"
      ]
     },
     "execution_count": 76,
     "metadata": {},
     "output_type": "execute_result"
    }
   ],
   "source": [
    "# Verificando valores existentes na coluna de situação da matricula\n",
    "\n",
    "dados['SIT_MATRICULA'].unique()"
   ]
  },
  {
   "cell_type": "code",
   "execution_count": 77,
   "metadata": {
    "collapsed": false
   },
   "outputs": [
    {
     "data": {
      "text/plain": [
       "array([0, 1], dtype=int64)"
      ]
     },
     "execution_count": 77,
     "metadata": {},
     "output_type": "execute_result"
    }
   ],
   "source": [
    "# categoria 0 = Matriculado\n",
    "# categoria 2 = Trancado\n",
    "# categoria 4 = Transferido interno\n",
    "# categoria 9 = Evasão\n",
    "# categoria 10 = Cancelado\n",
    "# categoria 11 = Transferido Externo\n",
    "# categoria 13 = Aguardando colação de grau\n",
    "# categoria 14 = Intercambio\n",
    "# categoria 18 = Formado\n",
    "# categoria 20 = Cancelamento compulsorio\n",
    "\n",
    "# evasão = 2, 4, 9, 10, 11, 20\n",
    "# não evasão = 0, 13, 14, 18\n",
    "\n",
    "# 0 = não evasão,  1 = evasão\n",
    "\n",
    "dados.loc[dados['SIT_MATRICULA']==13,'SIT_MATRICULA'] = 0\n",
    "dados.loc[dados['SIT_MATRICULA']==14,'SIT_MATRICULA'] = 0\n",
    "dados.loc[dados['SIT_MATRICULA']==18,'SIT_MATRICULA'] = 0\n",
    "dados.loc[dados['SIT_MATRICULA']==2,'SIT_MATRICULA'] = 1\n",
    "dados.loc[dados['SIT_MATRICULA']==4,'SIT_MATRICULA'] = 1\n",
    "dados.loc[dados['SIT_MATRICULA']==9,'SIT_MATRICULA'] = 1\n",
    "dados.loc[dados['SIT_MATRICULA']==10,'SIT_MATRICULA'] = 1\n",
    "dados.loc[dados['SIT_MATRICULA']==11,'SIT_MATRICULA'] = 1\n",
    "dados.loc[dados['SIT_MATRICULA']==20,'SIT_MATRICULA'] = 1\n",
    "\n",
    "dados['SIT_MATRICULA'].unique()"
   ]
  },
  {
   "cell_type": "code",
   "execution_count": 78,
   "metadata": {
    "collapsed": false
   },
   "outputs": [
    {
     "data": {
      "text/plain": [
       "(570, 28)"
      ]
     },
     "execution_count": 78,
     "metadata": {},
     "output_type": "execute_result"
    }
   ],
   "source": [
    "# utilizar função para garantir que exista apenas um registro (tupla) de cada aluno \n",
    "\n",
    "dados = dados.drop_duplicates(subset='MATRICULA', keep='first')\n",
    "\n",
    "dados.shape"
   ]
  },
  {
   "cell_type": "code",
   "execution_count": 79,
   "metadata": {
    "collapsed": false
   },
   "outputs": [
    {
     "name": "stdout",
     "output_type": "stream",
     "text": [
      "Taxa de evasão do curso de Engenharia de Controle e Automação por ano.\n",
      "Ano:2016, quantidade de alunos: 11, quantidade evasão: 0, taxa de evasão: 0.0%\n",
      "Ano:2015, quantidade de alunos: 53, quantidade evasão: 9, taxa de evasão: 16.98%\n",
      "Ano:2014, quantidade de alunos: 64, quantidade evasão: 31, taxa de evasão: 48.44%\n",
      "Ano:2013, quantidade de alunos: 83, quantidade evasão: 42, taxa de evasão: 50.6%\n",
      "Ano:2012, quantidade de alunos: 92, quantidade evasão: 40, taxa de evasão: 43.48%\n",
      "Ano:2011, quantidade de alunos: 72, quantidade evasão: 40, taxa de evasão: 55.56%\n",
      "Ano:2010, quantidade de alunos: 67, quantidade evasão: 35, taxa de evasão: 52.24%\n",
      "Ano:2009, quantidade de alunos: 65, quantidade evasão: 51, taxa de evasão: 78.46%\n",
      "Ano:2008, quantidade de alunos: 63, quantidade evasão: 36, taxa de evasão: 57.14%\n"
     ]
    }
   ],
   "source": [
    "# total de alunos por ano\n",
    "colunas = ['ano', 'Quantidade de alunos', 'Quantidade de evasão', 'Taxa de evasão (%)']\n",
    "evasao = pd.DataFrame(columns=colunas)\n",
    "\n",
    "print('Taxa de evasão do curso de Engenharia de Controle e Automação por ano.')\n",
    "\n",
    "for ano in dados.ANO_INGRESSO.unique():\n",
    "    # identificar quantidade de alunos por ano\n",
    "    total_alunos_ano = dados.loc[dados['ANO_INGRESSO']==ano, 'ANO_INGRESSO'].count()\n",
    "    #print('Ano:' + str(ano) + ', quantidade de alunos: ' + str(total_alunos_ano))\n",
    "    \n",
    "    # identificar quantidade de evasão por ano\n",
    "    evasao_ano = dados.loc[(dados['ANO_INGRESSO']==ano) & (dados['SIT_MATRICULA']==1), 'ANO_INGRESSO'].count()\n",
    "    #print('Quantidade de alunos classificados como evasão: ', evasao_ano)\n",
    "    \n",
    "    taxa_evasao = evasao_ano / total_alunos_ano * 100\n",
    "    \n",
    "    #print('Taxa de evasão: ' + str(taxa_evasao) + '%')\n",
    "    \n",
    "    print('Ano:' + str(ano) + ', quantidade de alunos: ' + str(total_alunos_ano) + ', quantidade evasão: ' + str(evasao_ano) + ', taxa de evasão: ' + str(round(taxa_evasao,2)) + '%')\n",
    "    \n",
    "    evasao = evasao.append(pd.DataFrame([[ano, total_alunos_ano, evasao_ano, taxa_evasao]], columns=colunas))\n",
    "\n"
   ]
  },
  {
   "cell_type": "code",
   "execution_count": 80,
   "metadata": {
    "collapsed": false
   },
   "outputs": [
    {
     "data": {
      "text/html": [
       "<div>\n",
       "<table border=\"1\" class=\"dataframe\">\n",
       "  <thead>\n",
       "    <tr style=\"text-align: right;\">\n",
       "      <th></th>\n",
       "      <th>ano</th>\n",
       "      <th>Quantidade de alunos</th>\n",
       "      <th>Quantidade de evasão</th>\n",
       "      <th>Taxa de evasão (%)</th>\n",
       "    </tr>\n",
       "  </thead>\n",
       "  <tbody>\n",
       "    <tr>\n",
       "      <th>0</th>\n",
       "      <td>2016</td>\n",
       "      <td>11.0</td>\n",
       "      <td>0.0</td>\n",
       "      <td>0.000000</td>\n",
       "    </tr>\n",
       "    <tr>\n",
       "      <th>0</th>\n",
       "      <td>2015</td>\n",
       "      <td>53.0</td>\n",
       "      <td>9.0</td>\n",
       "      <td>16.981132</td>\n",
       "    </tr>\n",
       "    <tr>\n",
       "      <th>0</th>\n",
       "      <td>2014</td>\n",
       "      <td>64.0</td>\n",
       "      <td>31.0</td>\n",
       "      <td>48.437500</td>\n",
       "    </tr>\n",
       "    <tr>\n",
       "      <th>0</th>\n",
       "      <td>2013</td>\n",
       "      <td>83.0</td>\n",
       "      <td>42.0</td>\n",
       "      <td>50.602410</td>\n",
       "    </tr>\n",
       "    <tr>\n",
       "      <th>0</th>\n",
       "      <td>2012</td>\n",
       "      <td>92.0</td>\n",
       "      <td>40.0</td>\n",
       "      <td>43.478261</td>\n",
       "    </tr>\n",
       "    <tr>\n",
       "      <th>0</th>\n",
       "      <td>2011</td>\n",
       "      <td>72.0</td>\n",
       "      <td>40.0</td>\n",
       "      <td>55.555556</td>\n",
       "    </tr>\n",
       "    <tr>\n",
       "      <th>0</th>\n",
       "      <td>2010</td>\n",
       "      <td>67.0</td>\n",
       "      <td>35.0</td>\n",
       "      <td>52.238806</td>\n",
       "    </tr>\n",
       "    <tr>\n",
       "      <th>0</th>\n",
       "      <td>2009</td>\n",
       "      <td>65.0</td>\n",
       "      <td>51.0</td>\n",
       "      <td>78.461538</td>\n",
       "    </tr>\n",
       "    <tr>\n",
       "      <th>0</th>\n",
       "      <td>2008</td>\n",
       "      <td>63.0</td>\n",
       "      <td>36.0</td>\n",
       "      <td>57.142857</td>\n",
       "    </tr>\n",
       "  </tbody>\n",
       "</table>\n",
       "</div>"
      ],
      "text/plain": [
       "    ano  Quantidade de alunos  Quantidade de evasão  Taxa de evasão (%)\n",
       "0  2016                  11.0                   0.0            0.000000\n",
       "0  2015                  53.0                   9.0           16.981132\n",
       "0  2014                  64.0                  31.0           48.437500\n",
       "0  2013                  83.0                  42.0           50.602410\n",
       "0  2012                  92.0                  40.0           43.478261\n",
       "0  2011                  72.0                  40.0           55.555556\n",
       "0  2010                  67.0                  35.0           52.238806\n",
       "0  2009                  65.0                  51.0           78.461538\n",
       "0  2008                  63.0                  36.0           57.142857"
      ]
     },
     "execution_count": 80,
     "metadata": {},
     "output_type": "execute_result"
    }
   ],
   "source": [
    "evasao"
   ]
  },
  {
   "cell_type": "code",
   "execution_count": 81,
   "metadata": {
    "collapsed": false
   },
   "outputs": [
    {
     "data": {
      "image/png": "[encoded data removed]",
      "text/plain": [
       "<matplotlib.figure.Figure at 0xce9d630>"
      ]
     },
     "metadata": {},
     "output_type": "display_data"
    }
   ],
   "source": [
    "import matplotlib.pyplot as plt\n",
    "import seaborn as sb\n",
    "\n",
    "\n",
    "sb.barplot(x='ano', y='Taxa de evasão (%)', data=evasao, color='b')\n",
    "\n",
    "plt.ylabel('Taxa de evasão (%)')\n",
    "plt.xlabel('Ano')\n",
    "plt.show()"
   ]
  },
  {
   "cell_type": "code",
   "execution_count": 82,
   "metadata": {
    "collapsed": false
   },
   "outputs": [
    {
     "data": {
      "text/plain": [
       "<matplotlib.axes._subplots.AxesSubplot at 0xce9df60>"
      ]
     },
     "execution_count": 82,
     "metadata": {},
     "output_type": "execute_result"
    },
    {
     "data": {
      "image/png": "[encoded data removed]",
      "text/plain": [
       "<matplotlib.figure.Figure at 0xce0a588>"
      ]
     },
     "metadata": {},
     "output_type": "display_data"
    }
   ],
   "source": [
    "evasao.plot(x=evasao.ano, kind='bar')"
   ]
  },
  {
   "cell_type": "code",
   "execution_count": null,
   "metadata": {
    "collapsed": true
   },
   "outputs": [],
   "source": []
  }
 ],
 "metadata": {
  "kernelspec": {
   "display_name": "Python 3",
   "language": "python",
   "name": "python3"
  },
  "language_info": {
   "codemirror_mode": {
    "name": "ipython",
    "version": 3
   },
   "file_extension": ".py",
   "mimetype": "text/x-python",
   "name": "python",
   "nbconvert_exporter": "python",
   "pygments_lexer": "ipython3",
   "version": "3.6.0"
  }
 },
 "nbformat": 4,
 "nbformat_minor": 2
}
