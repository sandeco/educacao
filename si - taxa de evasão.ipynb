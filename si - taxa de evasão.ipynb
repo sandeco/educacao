{
 "cells": [
  {
   "cell_type": "markdown",
   "metadata": {},
   "source": [
    "Objetivo: Descobrir qual a taxa de evasão de cada curso (ECA, SI) por ano de matricula.\n",
    "\n",
    "Etapas:\n",
    "- importar os dados\n",
    "- descobrir o ano de ingresso atráves da matricula\n",
    "- tratar a situação da matricula para evasão ou não evasão\n",
    "- utilizar função para garantir que exista apenas um registro (tupla) de cada aluno\n",
    "- com a situação da matricula e o ano de ingresso, realizar operação para identificar a taxa de evasão"
   ]
  },
  {
   "cell_type": "code",
   "execution_count": 19,
   "metadata": {
    "collapsed": false
   },
   "outputs": [],
   "source": [
    "import pandas as pd\n",
    "import matplotlib.pyplot as plt\n",
    "import seaborn as sb\n",
    "\n",
    "%matplotlib inline\n",
    "\n",
    "dados = pd.read_csv('si-original.csv', na_values=['NULL'], dtype={\"MATRICULA\" : \"object\"})\n",
    "#dados = pd.read_csv('eca-original.csv', na_values=['NULL'], dtype={\"MATRICULA\" : \"object\"})\n",
    "\n",
    "#dados.describe()"
   ]
  },
  {
   "cell_type": "code",
   "execution_count": 20,
   "metadata": {
    "collapsed": false
   },
   "outputs": [
    {
     "data": {
      "text/plain": [
       "(1320, 27)"
      ]
     },
     "execution_count": 20,
     "metadata": {},
     "output_type": "execute_result"
    }
   ],
   "source": [
    "dados.shape"
   ]
  },
  {
   "cell_type": "code",
   "execution_count": 21,
   "metadata": {
    "collapsed": false
   },
   "outputs": [],
   "source": [
    "#CRIANDO CAMPO DE ANO DE INGRESSO PARA CÁLCULO DA IDADE DE INGRESSO\n",
    "dados['ANO_INGRESSO'] = dados['MATRICULA'].str[:4]"
   ]
  },
  {
   "cell_type": "code",
   "execution_count": 22,
   "metadata": {
    "collapsed": false
   },
   "outputs": [
    {
     "data": {
      "text/plain": [
       "array([ 9,  0, 10,  2], dtype=int64)"
      ]
     },
     "execution_count": 22,
     "metadata": {},
     "output_type": "execute_result"
    }
   ],
   "source": [
    "# Verificando valores existentes na coluna de situação da matricula\n",
    "\n",
    "dados['SIT_MATRICULA'].unique()"
   ]
  },
  {
   "cell_type": "code",
   "execution_count": 23,
   "metadata": {
    "collapsed": false
   },
   "outputs": [
    {
     "data": {
      "text/plain": [
       "array([1, 0], dtype=int64)"
      ]
     },
     "execution_count": 23,
     "metadata": {},
     "output_type": "execute_result"
    }
   ],
   "source": [
    "# Normalizando a coluna de situação da matricula, sendo:\n",
    "# 0 = matriculado\n",
    "# 1 = evasão (compreende a categoria 2, 9 e 10)\n",
    "\n",
    "# categoria 0 = Matriculado\n",
    "# categoria 2 = Trancado\n",
    "# categoria 9 = Evasão\n",
    "# categoria 10 = Cancelado\n",
    "\n",
    "dados.loc[dados['SIT_MATRICULA']==2,'SIT_MATRICULA'] = 1\n",
    "dados.loc[dados['SIT_MATRICULA']==9,'SIT_MATRICULA'] = 1\n",
    "dados.loc[dados['SIT_MATRICULA']==10,'SIT_MATRICULA'] = 1\n",
    "\n",
    "dados['SIT_MATRICULA'].unique()"
   ]
  },
  {
   "cell_type": "code",
   "execution_count": 24,
   "metadata": {
    "collapsed": false
   },
   "outputs": [
    {
     "data": {
      "text/plain": [
       "(84, 28)"
      ]
     },
     "execution_count": 24,
     "metadata": {},
     "output_type": "execute_result"
    }
   ],
   "source": [
    "# utilizar função para garantir que exista apenas um registro (tupla) de cada aluno \n",
    "\n",
    "dados = dados.drop_duplicates(subset='MATRICULA', keep='first')\n",
    "\n",
    "dados.shape"
   ]
  },
  {
   "cell_type": "code",
   "execution_count": 25,
   "metadata": {
    "collapsed": false
   },
   "outputs": [
    {
     "name": "stdout",
     "output_type": "stream",
     "text": [
      "Taxa de evasão do curso de Sistemas de Informação por ano.\n",
      "Ano:2013, quantidade de alunos: 24, quantidade evasão: 10, taxa de evasão: 41.67%\n",
      "Ano:2016, quantidade de alunos: 7, quantidade evasão: 0, taxa de evasão: 0.0%\n",
      "Ano:2014, quantidade de alunos: 27, quantidade evasão: 7, taxa de evasão: 25.93%\n",
      "Ano:2015, quantidade de alunos: 26, quantidade evasão: 4, taxa de evasão: 15.38%\n"
     ]
    }
   ],
   "source": [
    "# total de alunos por ano\n",
    "colunas = ['ano', 'Quantidade de alunos', 'Quantidade de evasão', 'Taxa de evasão (%)']\n",
    "evasao = pd.DataFrame(columns=colunas)\n",
    "\n",
    "print('Taxa de evasão do curso de Sistemas de Informação por ano.')\n",
    "\n",
    "for ano in dados.ANO_INGRESSO.unique():\n",
    "    # identificar quantidade de alunos por ano\n",
    "    total_alunos_ano = dados.loc[dados['ANO_INGRESSO']==ano, 'ANO_INGRESSO'].count()\n",
    "    #print('Ano:' + str(ano) + ', quantidade de alunos: ' + str(total_alunos_ano))\n",
    "    \n",
    "    # identificar quantidade de evasão por ano\n",
    "    evasao_ano = dados.loc[(dados['ANO_INGRESSO']==ano) & (dados['SIT_MATRICULA']==1), 'ANO_INGRESSO'].count()\n",
    "    #print('Quantidade de alunos classificados como evasão: ', evasao_ano)\n",
    "    \n",
    "    taxa_evasao = evasao_ano / total_alunos_ano * 100\n",
    "    \n",
    "    #print('Taxa de evasão: ' + str(taxa_evasao) + '%')\n",
    "    \n",
    "    print('Ano:' + str(ano) + ', quantidade de alunos: ' + str(total_alunos_ano) + ', quantidade evasão: ' + str(evasao_ano) + ', taxa de evasão: ' + str(round(taxa_evasao,2)) + '%')\n",
    "    \n",
    "    evasao = evasao.append(pd.DataFrame([[ano, total_alunos_ano, evasao_ano, taxa_evasao]], columns=colunas))\n",
    "\n"
   ]
  },
  {
   "cell_type": "code",
   "execution_count": 26,
   "metadata": {
    "collapsed": false
   },
   "outputs": [
    {
     "name": "stderr",
     "output_type": "stream",
     "text": [
      "C:\\Users\\Rogerio\\Anaconda3\\lib\\site-packages\\ipykernel\\__main__.py:1: FutureWarning: sort(columns=....) is deprecated, use sort_values(by=.....)\n",
      "  if __name__ == '__main__':\n"
     ]
    },
    {
     "data": {
      "text/html": [
       "<div>\n",
       "<table border=\"1\" class=\"dataframe\">\n",
       "  <thead>\n",
       "    <tr style=\"text-align: right;\">\n",
       "      <th></th>\n",
       "      <th>ano</th>\n",
       "      <th>Quantidade de alunos</th>\n",
       "      <th>Quantidade de evasão</th>\n",
       "      <th>Taxa de evasão (%)</th>\n",
       "    </tr>\n",
       "  </thead>\n",
       "  <tbody>\n",
       "    <tr>\n",
       "      <th>0</th>\n",
       "      <td>2013</td>\n",
       "      <td>24.0</td>\n",
       "      <td>10.0</td>\n",
       "      <td>41.666667</td>\n",
       "    </tr>\n",
       "    <tr>\n",
       "      <th>0</th>\n",
       "      <td>2014</td>\n",
       "      <td>27.0</td>\n",
       "      <td>7.0</td>\n",
       "      <td>25.925926</td>\n",
       "    </tr>\n",
       "    <tr>\n",
       "      <th>0</th>\n",
       "      <td>2015</td>\n",
       "      <td>26.0</td>\n",
       "      <td>4.0</td>\n",
       "      <td>15.384615</td>\n",
       "    </tr>\n",
       "    <tr>\n",
       "      <th>0</th>\n",
       "      <td>2016</td>\n",
       "      <td>7.0</td>\n",
       "      <td>0.0</td>\n",
       "      <td>0.000000</td>\n",
       "    </tr>\n",
       "  </tbody>\n",
       "</table>\n",
       "</div>"
      ],
      "text/plain": [
       "    ano  Quantidade de alunos  Quantidade de evasão  Taxa de evasão (%)\n",
       "0  2013                  24.0                  10.0           41.666667\n",
       "0  2014                  27.0                   7.0           25.925926\n",
       "0  2015                  26.0                   4.0           15.384615\n",
       "0  2016                   7.0                   0.0            0.000000"
      ]
     },
     "execution_count": 26,
     "metadata": {},
     "output_type": "execute_result"
    }
   ],
   "source": [
    "evasao = evasao.sort('ano')\n",
    "\n",
    "evasao"
   ]
  },
  {
   "cell_type": "code",
   "execution_count": 27,
   "metadata": {
    "collapsed": false
   },
   "outputs": [
    {
     "data": {
      "image/png": "[encoded data removed]",
      "text/plain": [
       "<matplotlib.figure.Figure at 0xbeaee10>"
      ]
     },
     "metadata": {},
     "output_type": "display_data"
    }
   ],
   "source": [
    "import matplotlib.pyplot as plt\n",
    "import seaborn as sb\n",
    "\n",
    "\n",
    "sb.barplot(x='ano', y='Taxa de evasão (%)', data=evasao, color='b')\n",
    "\n",
    "plt.ylabel('Taxa de evasão (%)')\n",
    "plt.xlabel('Ano')\n",
    "plt.show()"
   ]
  },
  {
   "cell_type": "code",
   "execution_count": 28,
   "metadata": {
    "collapsed": false
   },
   "outputs": [
    {
     "data": {
      "text/plain": [
       "<matplotlib.axes._subplots.AxesSubplot at 0xbc6dcf8>"
      ]
     },
     "execution_count": 28,
     "metadata": {},
     "output_type": "execute_result"
    },
    {
     "data": {
      "image/png": "[encoded data removed]",
      "text/plain": [
       "<matplotlib.figure.Figure at 0x4d644e0>"
      ]
     },
     "metadata": {},
     "output_type": "display_data"
    }
   ],
   "source": [
    "evasao.plot(x=evasao.ano, kind='bar')"
   ]
  },
  {
   "cell_type": "code",
   "execution_count": null,
   "metadata": {
    "collapsed": true
   },
   "outputs": [],
   "source": []
  }
 ],
 "metadata": {
  "kernelspec": {
   "display_name": "Python 3",
   "language": "python",
   "name": "python3"
  },
  "language_info": {
   "codemirror_mode": {
    "name": "ipython",
    "version": 3
   },
   "file_extension": ".py",
   "mimetype": "text/x-python",
   "name": "python",
   "nbconvert_exporter": "python",
   "pygments_lexer": "ipython3",
   "version": "3.6.0"
  }
 },
 "nbformat": 4,
 "nbformat_minor": 2
}
